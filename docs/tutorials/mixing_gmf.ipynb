{
 "cells": [
  {
   "cell_type": "markdown",
   "metadata": {},
   "source": [
    "[![Open In Colab](https://colab.research.google.com/assets/colab-badge.svg)](https://colab.research.google.com/github/me-manu/gammaALPs/blob/master/docs/tutorials/mixing_gmf.ipynb)"
   ]
  },
  {
   "cell_type": "markdown",
   "metadata": {},
   "source": [
    "# Mixing in the magnetic field of the Milky Way\n",
    "\n",
    "This tutorial demonstrates mixing in the Galactic mangetic field (GMF) of the Milky Way. \n",
    "The GMF will be modeled here through the model of the coherent component put forward by <a href=\"https://ui.adsabs.harvard.edu/abs/2012ApJ...757...14J/abstract\">Jansson & Farrar (2012)</a>.\n",
    "\n",
    "In addition to the simple photon-ALP oscillation calculation as a function of energy also shown in the other tutorials, here we also demonstrate how one can extract the mixing as a function of propagation distance, which nicely demonstrates the effect of the different B-field components of the <a href=\"https://ui.adsabs.harvard.edu/abs/2012ApJ...757...14J/abstract\">Jansson & Farrar model</a>.\n",
    "\n",
    "In the second part of the tutorial, we show one can generate an all-sky map for the photon-ALP conversion probability in the GMF using `healpy`. If you want to run the tutorial notebook yourself, make sure that you have `healpy` installed; it's not a requirement to run gammaALPs. For installing `healpy` check out the documentation <a href=\"https://healpy.readthedocs.io/en/latest/\">here</a>."
   ]
  },
  {
   "cell_type": "markdown",
   "metadata": {},
   "source": [
    "If you haven't installed `gammaALPs` already, you can do so using `pip`. Just uncomment the line below:"
   ]
  },
  {
   "cell_type": "code",
   "execution_count": null,
   "metadata": {},
   "outputs": [],
   "source": [
    "#!pip install gammaALPs"
   ]
  },
  {
   "cell_type": "markdown",
   "metadata": {},
   "source": [
    "We begin with the usual imports:"
   ]
  },
  {
   "cell_type": "code",
   "execution_count": null,
   "metadata": {},
   "outputs": [],
   "source": [
    "from gammaALPs.core import Source, ALP, ModuleList\n",
    "from gammaALPs.base import environs, transfer\n",
    "import numpy as np\n",
    "import matplotlib.pyplot as plt\n",
    "from matplotlib.patheffects import withStroke\n",
    "from mpl_toolkits.mplot3d import Axes3D\n",
    "import mpl_toolkits.mplot3d.art3d as art3d\n",
    "from matplotlib.patches import Circle, PathPatch\n",
    "from matplotlib.text import TextPath\n",
    "from matplotlib.transforms import Affine2D\n",
    "\n",
    "\n",
    "effect  = dict(path_effects=[withStroke(foreground=\"w\", linewidth=2)])  # used for plotting"
   ]
  },
  {
   "cell_type": "markdown",
   "metadata": {},
   "source": [
    "Next we initialize the module. We assume a pure ALP beam as the initial state that enters the Milky Way. "
   ]
  },
  {
   "cell_type": "code",
   "execution_count": null,
   "metadata": {},
   "outputs": [],
   "source": [
    "EGeV = np.logspace(-1., 3., 101)  # the energy range, roughly mathing the Fermi-LAT energy range\n",
    "src = Source(z=0.017559, l=20., b=20.)  # some dummy source for initialization\n",
    "pa_in = np.diag([0., 0., 1.])  # the inital polarization matrix; a pure ALP state\n",
    "\n",
    "ml = ModuleList(ALP(m=1., g=1.), src, pin=pa_in, EGeV=EGeV, seed=0)\n",
    "\n",
    "# add the GMF propagation module\n",
    "ml.add_propagation(\"GMF\", 0, model='jansson12')"
   ]
  },
  {
   "cell_type": "markdown",
   "metadata": {},
   "source": [
    "### A comment on the geometry adopted in gammaALPs\n",
    "\n",
    "To calculate the Galactic magnetic field parallel to the two photon polarization states, a local coordinate system along the line of sight is defined and the B field is projected onto the transversal axis, which are called $\\hat{l}$ and $\\hat{b}$, see the 3D plot below. \n",
    "\n",
    "In case a source is added (which is not the case in this tutorial), the $\\psi$ angle, i.e., the angle between the $\\hat{y}$ axis in the source frame and the $B$ field is related to the local coordinate system through \n",
    "$$ \\tan\\psi = \\frac{\\langle \\vec{B}, -\\hat{b}\\rangle}{\\langle \\vec{B}, \\hat{l}\\rangle}.$$ "
   ]
  },
  {
   "cell_type": "code",
   "execution_count": null,
   "metadata": {},
   "outputs": [],
   "source": [
    "fig = plt.figure(figsize=(8,8))\n",
    "ax = fig.add_subplot(111, projection='3d')\n",
    "\n",
    "\n",
    "# Earth and GC position\n",
    "ax.plot(-8.5, 0., ms=10, mec='k', mfc='w', marker='o')\n",
    "ax.plot(-8.5, 0., ms=5, color='k', marker='.')\n",
    "ax.plot(0., 0., ms=10, color='k', marker='*')\n",
    "\n",
    "# Axes\n",
    "start = -10.\n",
    "length = 20.\n",
    "axes = [[start, 0., 0., length, 0., 0.], \n",
    "        [0., start, 0., 0., length, 0.], \n",
    "        [0., 0., start, 0., 0., length]]\n",
    "X, Y, Z, U, V, W = zip(*axes)\n",
    "        \n",
    "ax.quiver(X, Y, Z, U, V, W, arrow_length_ratio=.05, normalize=False)\n",
    "\n",
    "# arrows to source\n",
    "x_earth, y_earth, z_earth = np.array([-8.5]), np.array([0.]), np.array([0.])\n",
    "\n",
    "def uvw_gal(l, b, shift_b=0., shift_l=0.):\n",
    "    if np.isscalar(l):\n",
    "        l = np.array([l])\n",
    "    if np.isscalar(b):\n",
    "        b = np.array([b])\n",
    "        \n",
    "    u = np.cos(np.deg2rad(b) + shift_b) * np.cos(np.deg2rad(l) + shift_l)\n",
    "    v = np.cos(np.deg2rad(b) + shift_b) * np.sin(np.deg2rad(l) + shift_l)\n",
    "    w = np.sin(np.deg2rad(src.b) + shift_b)\n",
    "    \n",
    "    return u,v,w\n",
    "                                       \n",
    "\n",
    "source_distance = 20.\n",
    "u, v, w = uvw_gal(src.l, src.b)\n",
    "\n",
    "# arrow to source\n",
    "ax.quiver(x_earth, y_earth, z_earth, \n",
    "          u, v, w, \n",
    "          arrow_length_ratio=.001, normalize=False, length=source_distance, color=\"C1\", ls='--')\n",
    "\n",
    "# local coordinate system at Earth\n",
    "ax.quiver(x_earth, y_earth, z_earth, \n",
    "          u, v, w, \n",
    "          arrow_length_ratio=.3, normalize=True, length=3., color=\"k\", ls='-')\n",
    "ax.text((x_earth + u)[0] + 0.5, (y_earth + v)[0]-0.5, (z_earth + w)[0] + 1.5,\n",
    "        \"$\\hat{s}$\", color='k')\n",
    "\n",
    "\n",
    "u, v, w = uvw_gal(src.l + 90., src.b)\n",
    "ax.quiver(x_earth, y_earth, z_earth, \n",
    "          u, v, w, \n",
    "          arrow_length_ratio=.3, normalize=True, length=3., color=\"k\", ls='-')\n",
    "ax.text((x_earth + u)[0], (y_earth + v)[0] + 3., (z_earth + w)[0],\n",
    "        \"$\\hat{l}$\", color='k')\n",
    "\n",
    "u, v, w = uvw_gal(src.l, src.b, shift_b=np.pi / 2.)\n",
    "ax.quiver(x_earth, y_earth, z_earth, \n",
    "          u, v, w, \n",
    "          arrow_length_ratio=.3, normalize=True, length=3., color=\"k\", ls='-')\n",
    "ax.text((x_earth + u)[0] - 0.3, (y_earth + v)[0], (z_earth + w)[0] + 2.,\n",
    "        \"$\\hat{b}$\", color='k')\n",
    "\n",
    "\n",
    "# coordinate system at source\n",
    "u, v, w = uvw_gal(src.l, src.b)\n",
    "x_src = x_earth + source_distance * u\n",
    "y_src = y_earth + source_distance * v\n",
    "z_src = z_earth + source_distance * w\n",
    "\n",
    "plt.plot(x_src, y_src, z_src, marker=\"*\", mec=\"w\", mfc=\"b\", ms=20.)\n",
    "\n",
    "u, v, w = uvw_gal(src.l, src.b, shift_b=np.pi)\n",
    "ax.quiver(x_src, y_src, z_src,\n",
    "          u, v, w,\n",
    "          arrow_length_ratio=.3, normalize=True, length=3., color=\"b\", ls='-')\n",
    "ax.text((x_src + u)[0] - 0.5, (y_src + v)[0] - 0.5, (z_src + w)[0] - 1.5, \"$\\hat{z}$\", color='b')\n",
    "\n",
    "u, v, w = uvw_gal(src.l + 90., src.b)\n",
    "ax.quiver(x_src, y_src, z_src,\n",
    "          u, v, w,\n",
    "          arrow_length_ratio=.3, normalize=True, length=3., color=\"b\", ls='-')\n",
    "ax.text((x_src + u)[0] + 0.5, (y_src + v)[0] + 1.5, (z_src + w)[0] + 0.5, \"$\\hat{y}$\", color='b')\n",
    "\n",
    "u, v, w = uvw_gal(src.l, src.b, shift_b=np.pi / 2.)\n",
    "ax.quiver(x_src, y_src, z_src,\n",
    "          u, v, w,\n",
    "          arrow_length_ratio=.3, normalize=True, length=3., color=\"b\", ls='-')\n",
    "ax.text((x_src + u)[0], (y_src + v)[0] - 0.5, (z_src + w)[0] + 0.7, \"$\\hat{x}$\", color='b')\n",
    "     \n",
    "# Galactic disk\n",
    "p = Circle((0, 0), 10, alpha=0.1, zorder=-10)\n",
    "ax.add_patch(p)\n",
    "art3d.pathpatch_2d_to_3d(p, z=0, zdir=\"z\")\n",
    "\n",
    "text_path = TextPath((0, 0), \"Galactic disk\", size=1.2, usetex=False)\n",
    "trans = Affine2D().rotate(0.).translate(0.5, -3.5)\n",
    "p1 = PathPatch(trans.transform_path(text_path))\n",
    "ax.add_patch(p1)\n",
    "art3d.pathpatch_2d_to_3d(p1, z=0., zdir=\"z\")\n",
    "\n",
    "ax.set_xlabel(\"$x$ (kpc)\")\n",
    "ax.set_ylabel(\"$y$ (kpc)\")\n",
    "ax.set_zlabel(\"$z$ (kpc)\")\n",
    "ax.set_xlim(-10.,10)\n",
    "ax.set_ylim(-10.,10)\n",
    "ax.set_zlim(-10.,10)\n",
    "\n",
    "ax.view_init(elev=25, azim=220)"
   ]
  },
  {
   "cell_type": "markdown",
   "metadata": {},
   "source": [
    "## Continue with computing conversion probability \n",
    "\n",
    "Compute the conversion probability as a function of energy:"
   ]
  },
  {
   "cell_type": "code",
   "execution_count": null,
   "metadata": {},
   "outputs": [],
   "source": [
    "px, py, pa = ml.run()"
   ]
  },
  {
   "cell_type": "markdown",
   "metadata": {},
   "source": [
    "Compute the conversion probability along the line of sight. We provide the initial state and the final polarization state we're interested in. This step has to come *after* you have calculated the conversion probability as a function of energy, because the tranfer matrices have to be filled with the correct values. This could alternatively be done by calling the `ml.modules[\"GMF\"].fill_transfer()` function."
   ]
  },
  {
   "cell_type": "code",
   "execution_count": null,
   "metadata": {},
   "outputs": [],
   "source": [
    "px_in = np.diag([1., 0., 0.])\n",
    "py_in = np.diag([0., 1., 0.])\n",
    "\n",
    "prx = ml.modules[\"GMF\"].show_conv_prob_vs_r(pa_in, px_in)\n",
    "pry = ml.modules[\"GMF\"].show_conv_prob_vs_r(pa_in, py_in)\n",
    "pra = ml.modules[\"GMF\"].show_conv_prob_vs_r(pa_in, pa_in)"
   ]
  },
  {
   "cell_type": "markdown",
   "metadata": {},
   "source": [
    "Plot the conversion probability for one fixed energy as a function of propagation disctance together with the transversal magnetic field strength."
   ]
  },
  {
   "cell_type": "code",
   "execution_count": null,
   "metadata": {},
   "outputs": [],
   "source": [
    "idx = 40\n",
    "print (\"Energy:\", EGeV[idx], \"GeV\")\n",
    "\n",
    "ax = plt.subplot(111)\n",
    "ax.semilogy(ml.modules[\"GMF\"].r, (prx[:,idx] + pry[:,idx])[::-1],\n",
    "            drawstyle='steps')\n",
    "\n",
    "plt.ylabel(\"$P_{a\\gamma}$\", color = plt.cm.tab10(0.))\n",
    "plt.xlabel(\"$r$ (kpc)\")\n",
    "ax.set_ylim(1e-6,1e-1)\n",
    "\n",
    "ax2 = ax.twinx()\n",
    "ax2.semilogy(ml.modules[\"GMF\"].r, ml.modules[\"GMF\"].B[::-1],\n",
    "             color = plt.cm.tab10(0.3),\n",
    "             drawstyle ='steps')\n",
    "plt.ylabel(\"$B_{\\perp}$ ($\\mu$G)\", color = plt.cm.tab10(0.3))"
   ]
  },
  {
   "cell_type": "markdown",
   "metadata": {},
   "source": [
    "Plot the total conversion probability as a function of energy:"
   ]
  },
  {
   "cell_type": "code",
   "execution_count": null,
   "metadata": {},
   "outputs": [],
   "source": [
    "plt.semilogx(EGeV, px[0] + py[0], lw = 2)\n",
    "plt.xlabel(\"Energy (GeV)\")\n",
    "plt.ylabel(\"$P_{a\\gamma}$\")"
   ]
  },
  {
   "cell_type": "markdown",
   "metadata": {},
   "source": [
    "## Sky map for mixing in the GMF\n",
    "\n",
    "Next, we compute a full sky map using `healpy`. In each sky pixel, we calculate the photon-ALP conversion probability at one single energy (1 GeV).\n",
    "\n",
    "First, we import healpy."
   ]
  },
  {
   "cell_type": "code",
   "execution_count": null,
   "metadata": {},
   "outputs": [],
   "source": [
    "import healpy as hp\n",
    "import time"
   ]
  },
  {
   "cell_type": "markdown",
   "metadata": {},
   "source": [
    "And define the pixel grid:"
   ]
  },
  {
   "cell_type": "code",
   "execution_count": null,
   "metadata": {},
   "outputs": [],
   "source": [
    "NSIDE = 30\n",
    "pix = np.arange(hp.nside2npix(NSIDE))  # get the pixels\n",
    "ll, bb = hp.pixelfunc.pix2ang(NSIDE, pix, lonlat=True)  #  get the galactic coordinates for each pixel\n",
    "print (ll.shape)"
   ]
  },
  {
   "cell_type": "markdown",
   "metadata": {},
   "source": [
    "We loop over the coordinates and for each coordinate we re-initialize the `ModuleList` class \n",
    "and re-calculate the mixing probability."
   ]
  },
  {
   "cell_type": "code",
   "execution_count": null,
   "metadata": {},
   "outputs": [],
   "source": [
    "EGeV = np.array([1.])  # energy\n",
    "pgg = np.zeros((pix.shape[0],EGeV.shape[0]))  # array to store the results\n",
    "src = Source(z=0.1, ra=0., dec=0.)  # some random source for initialization\n",
    "\n",
    "# coupling and mass at which we want to calculate the conversion probability:\n",
    "g = 0.3\n",
    "m = 1.\n",
    "\n",
    "t1 = time.time()\n",
    "for i, l in enumerate(ll):\n",
    "    src.l = l\n",
    "    src.b = bb[i]\n",
    "    ml = ModuleList(ALP(m=m,g=g),\n",
    "                   src,\n",
    "                   pin=pa_in,  # pure ALP beam\n",
    "                   EGeV=EGeV, \n",
    "                   log_level='warning'  # suppress info calls\n",
    "                   )\n",
    "    ml.add_propagation(\"GMF\", 0, model='jansson12')  # add the propagation module\n",
    "    px, py, pa = ml.run()  # run the code\n",
    "    pgg[i] = px + py  # save the result\n",
    "\n",
    "    if i < ll.size - 1:\n",
    "        del ml\n",
    "        \n",
    "t2 = time.time()\n",
    "print (\"It took\", t2-t1, \"seconds\")"
   ]
  },
  {
   "cell_type": "markdown",
   "metadata": {},
   "source": [
    "Plot the full sky map using `healpy`'s Mollweide projection:"
   ]
  },
  {
   "cell_type": "code",
   "execution_count": null,
   "metadata": {},
   "outputs": [],
   "source": [
    "hpmap = hp.mollview(pgg[:,0], \n",
    "                    norm='linear',\n",
    "                    title = '', \n",
    "                    unit= '$P_{a\\gamma}$', \n",
    "                    min=1e-7,\n",
    "                    max=1e-2, \n",
    "                    cmap = 'Spectral_r')\n",
    "hp.graticule()\n",
    "plt.annotate(\"$g_{{a\\gamma}} = {0:.2f}\\\\times10^{{-11}}\\,\\mathrm{{GeV}}^{{-1}}$\".format(ml.alp.g),\n",
    "            xy = (0.03,0.93), xycoords = 'axes fraction', fontsize = 'x-large', **effect)"
   ]
  },
  {
   "cell_type": "markdown",
   "metadata": {},
   "source": [
    "We can also use `healpy` to calculate the power spectrum of $P_{a\\gamma}$ in terms of an expansion into spherical components and multipole number $\\ell$:"
   ]
  },
  {
   "cell_type": "code",
   "execution_count": null,
   "metadata": {},
   "outputs": [],
   "source": [
    "cl = hp.sphtfunc.anafast(pgg[:,0], gal_cut = 0.)\n",
    "ell = np.arange(len(cl))\n",
    "\n",
    "plt.loglog(ell, ell * (ell + 1) * cl * 1e6)\n",
    "plt.xlabel(\"$\\ell$\")\n",
    "plt.ylabel(\"$\\ell(\\ell+1)C_{\\ell}$ [$\\\\times10^{-6}$]\")\n",
    "plt.grid()"
   ]
  },
  {
   "cell_type": "code",
   "execution_count": null,
   "metadata": {},
   "outputs": [],
   "source": []
  }
 ],
 "metadata": {
  "kernelspec": {
   "display_name": "Python [conda env:gammaALPs-0.4]",
   "language": "python",
   "name": "conda-env-gammaALPs-0.4-py"
  },
  "language_info": {
   "codemirror_mode": {
    "name": "ipython",
    "version": 3
   },
   "file_extension": ".py",
   "mimetype": "text/x-python",
   "name": "python",
   "nbconvert_exporter": "python",
   "pygments_lexer": "ipython3",
   "version": "3.9.18"
  }
 },
 "nbformat": 4,
 "nbformat_minor": 4
}
