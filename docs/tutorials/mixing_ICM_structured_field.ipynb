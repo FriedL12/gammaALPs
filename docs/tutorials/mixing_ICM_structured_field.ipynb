{
 "cells": [
  {
   "cell_type": "markdown",
   "metadata": {},
   "source": [
    "# Example to calculate photon-ALP oscillations from NGC 1275 in a cavity field"
   ]
  },
  {
   "cell_type": "markdown",
   "metadata": {},
   "source": [
    "This notebook demonstrates how to calculate the photon-ALP transition probability for NGC 1275, the central AGN of the Perseus cluster. The assumed B-field environments are the same as in https://arxiv.org/abs/1908.03084, and include the cluster field and the magnetic field of the Milky Way. Electron density model parameters taken from https://iopscience.iop.org/article/10.1086/374923/fulltext/57155.text.html.\n",
    "\n",
    "Note that in order to obtain the field used in 1908.03084, you have to set $\\theta$ to 225° instead of 45° (adding 180°). This effectively inverts the sign of all field components. While this change of $\\theta$ and the sign is irrelevant for the conversion probability, it changes the field along the line of sight and inverts the sign of the RM, as well."
   ]
  },
  {
   "cell_type": "code",
   "execution_count": 1,
   "metadata": {},
   "outputs": [],
   "source": [
    "from github.galps.gammaALPs.core import Source, ALP, ModuleList\n",
    "from github.galps.gammaALPs.base import environs, transfer\n",
    "import numpy as np\n",
    "import matplotlib.pyplot as plt\n",
    "from matplotlib.patheffects import withStroke\n",
    "from ebltable.tau_from_model import OptDepth\n",
    "from astropy import constants as c"
   ]
  },
  {
   "cell_type": "code",
   "execution_count": 3,
   "metadata": {},
   "outputs": [],
   "source": [
    "%matplotlib inline"
   ]
  },
  {
   "cell_type": "markdown",
   "metadata": {},
   "source": [
    "### Set the ALP"
   ]
  },
  {
   "cell_type": "markdown",
   "metadata": {},
   "source": [
    "Initialize an ALP object, that stores the ALP mass $m$ (in neV) and the coupling $g$ (in $10^{-11}\\mathrm{GeV}^{-1}$)."
   ]
  },
  {
   "cell_type": "code",
   "execution_count": 4,
   "metadata": {},
   "outputs": [],
   "source": [
    "m, g = 2, 100\n",
    "alp = ALP(m,g)"
   ]
  },
  {
   "cell_type": "markdown",
   "metadata": {},
   "source": [
    "## Set the source"
   ]
  },
  {
   "cell_type": "markdown",
   "metadata": {},
   "source": [
    "Set the source properties (redshift and sky coordinates) in the ```Source``` containier"
   ]
  },
  {
   "cell_type": "code",
   "execution_count": 12,
   "metadata": {},
   "outputs": [],
   "source": [
    "ngc1275 = Source(z = 0.017559, ra = '03h19m48.1s', dec = '+41d30m42s')"
   ]
  },
  {
   "cell_type": "markdown",
   "metadata": {},
   "source": [
    "### Init the module list"
   ]
  },
  {
   "cell_type": "markdown",
   "metadata": {},
   "source": [
    "Initialize the list of transfer modules that will store the different magnetic field environments. "
   ]
  },
  {
   "cell_type": "markdown",
   "metadata": {},
   "source": [
    "Energies are supplied in GeV as ```numpy.ndarray```"
   ]
  },
  {
   "cell_type": "code",
   "execution_count": 3,
   "metadata": {},
   "outputs": [],
   "source": [
    "logEMeV = np.loadtxt('energy_bins.dat')\n",
    "EGeV = np.power(10, logEMeV - 3.)"
   ]
  },
  {
   "cell_type": "markdown",
   "metadata": {},
   "source": [
    "Now initialize the initial photon polarization. Since we are dealing with a gamma-ray source, no ALPs are initially present in the beam (third diagonal element is zero). The polarization density matrix is normalized such that its trace is equal to one, $\\mathrm{Tr}(\\rho_\\mathrm{in}) = 1$."
   ]
  },
  {
   "cell_type": "code",
   "execution_count": 4,
   "metadata": {},
   "outputs": [],
   "source": [
    "pin = np.diag((1.,1.,0.)) * 0.5"
   ]
  },
  {
   "cell_type": "markdown",
   "metadata": {},
   "source": [
    "### Add modules:"
   ]
  },
  {
   "cell_type": "markdown",
   "metadata": {},
   "source": [
    "Now we add propagation modules for the cluster, the EBL, and the Galactic magnetic field; run the module. Repeat for only the ICM field."
   ]
  },
  {
   "cell_type": "code",
   "execution_count": 11,
   "metadata": {},
   "outputs": [
    {
     "ename": "NameError",
     "evalue": "name 'ngc1275' is not defined",
     "output_type": "error",
     "traceback": [
      "\u001b[0;31m---------------------------------------------------------------------------\u001b[0m",
      "\u001b[0;31mNameError\u001b[0m                                 Traceback (most recent call last)",
      "\u001b[0;32m<ipython-input-11-2a2bf0108bd5>\u001b[0m in \u001b[0;36m<module>\u001b[0;34m\u001b[0m\n\u001b[1;32m      2\u001b[0m     \u001b[0malp\u001b[0m \u001b[0;34m=\u001b[0m \u001b[0mALP\u001b[0m\u001b[0;34m(\u001b[0m\u001b[0mm\u001b[0m\u001b[0;34m,\u001b[0m \u001b[0mg\u001b[0m\u001b[0;34m)\u001b[0m\u001b[0;34m\u001b[0m\u001b[0;34m\u001b[0m\u001b[0m\n\u001b[1;32m      3\u001b[0m     \u001b[0mpgg\u001b[0m \u001b[0;34m=\u001b[0m \u001b[0mnp\u001b[0m\u001b[0;34m.\u001b[0m\u001b[0mloadtxt\u001b[0m\u001b[0;34m(\u001b[0m\u001b[0;34mf'/mnt/5012B5DF12B5C9EC/master_thesis/fermilat/NGC_1275/ts_limit/structured_field/pgg_struc_{c}.dat'\u001b[0m\u001b[0;34m)\u001b[0m\u001b[0;34m\u001b[0m\u001b[0;34m\u001b[0m\u001b[0m\n\u001b[0;32m----> 4\u001b[0;31m     \u001b[0mml\u001b[0m \u001b[0;34m=\u001b[0m \u001b[0mModuleList\u001b[0m\u001b[0;34m(\u001b[0m\u001b[0malp\u001b[0m\u001b[0;34m,\u001b[0m \u001b[0mngc1275\u001b[0m\u001b[0;34m,\u001b[0m \u001b[0mpin\u001b[0m \u001b[0;34m=\u001b[0m \u001b[0mpin\u001b[0m\u001b[0;34m,\u001b[0m \u001b[0mEGeV\u001b[0m \u001b[0;34m=\u001b[0m \u001b[0mEGeV\u001b[0m\u001b[0;34m)\u001b[0m\u001b[0;34m\u001b[0m\u001b[0;34m\u001b[0m\u001b[0m\n\u001b[0m\u001b[1;32m      5\u001b[0m     ml.add_propagation(\"ICMStructured\", \n\u001b[1;32m      6\u001b[0m                        \u001b[0;36m0\u001b[0m\u001b[0;34m,\u001b[0m \u001b[0;31m# position of module counted from the source.\u001b[0m\u001b[0;34m\u001b[0m\u001b[0;34m\u001b[0m\u001b[0m\n",
      "\u001b[0;31mNameError\u001b[0m: name 'ngc1275' is not defined"
     ]
    }
   ],
   "source": [
    "\n",
    "for c, g in enumerate([1e2, 6e1, 3e1, 1e1]):\n",
    "    alp = ALP(m, g)\n",
    "    pgg = np.loadtxt(f'/mnt/5012B5DF12B5C9EC/master_thesis/fermilat/NGC_1275/ts_limit/structured_field/pgg_struc_{c}.dat')\n",
    "    ml = ModuleList(alp, ngc1275, pin = pin, EGeV = EGeV)\n",
    "    ml.add_propagation(\"ICMStructured\", \n",
    "                       0, # position of module counted from the source. \n",
    "                       B0 = 8.3,  # rms of B field\n",
    "                       R = 93,\n",
    "                       theta = 225,\n",
    "                       theta_rad=False,\n",
    "                       pa=147,\n",
    "                       pa_rad=False,\n",
    "                       n0 = 39e-2,  # normalization of electron density\n",
    "                       n2 = 4.05e-3, # second normalization of electron density, see Churazov et al. 2003, Eq. 4\n",
    "                       r_abell = 500., # extension of the cluster\n",
    "                       r_core = 80.,   # electron density parameter, see Churazov et al. 2003, Eq. 4\n",
    "                       r_core2 = 280., # electron density parameter, see Churazov et al. 2003, Eq. 4\n",
    "                       beta = 1.2,  # electron density parameter, see Churazov et al. 2003, Eq. 4\n",
    "                       beta2= 0.58, # electron density parameter, see Churazov et al. 2003, Eq. 4\n",
    "                       eta = 0 # scaling of B-field with electron denstiy\n",
    "                       )\n",
    "    ml.add_propagation(\"EBL\",1, eblmodel = 'dominguez') # EBL attenuation comes second, after beam has left cluster\n",
    "    ml.add_propagation(\"GMF\",2, model = 'pshirkov', model_sym = 'BSS') # finally, the beam enters the Milky Way Field\n",
    "\n",
    "    px, py, pa = ml.run()\n",
    "    psurv = px+py\n",
    "    print(np.any(np.isclose(psurv[0], pgg)))\n",
    "\n",
    "    '''\n",
    "    # again with only structured field\n",
    "\n",
    "    ml2 = ModuleList(alp, ngc1275, pin = pin, EGeV = EGeV)\n",
    "    ml2.add_propagation(\"ICMStructured\", \n",
    "                       0, # position of module counted from the source. \n",
    "                       B0 = 8.3,  # rms of B field\n",
    "                       R = 93,\n",
    "                       theta = 225,\n",
    "                       theta_rad=False,\n",
    "                       pa=147,\n",
    "                       pa_rad=False,\n",
    "                       n0 = 39.,  # normalization of electron density\n",
    "                       n2 = 4.05, # second normalization of electron density, see Churazov et al. 2003, Eq. 4\n",
    "                       r_abell = 500., # extension of the cluster\n",
    "                       r_core = 80.,   # electron density parameter, see Churazov et al. 2003, Eq. 4\n",
    "                       r_core2 = 280., # electron density parameter, see Churazov et al. 2003, Eq. 4\n",
    "                       beta = 1.2,  # electron density parameter, see Churazov et al. 2003, Eq. 4\n",
    "                       beta2= 0.58, # electron density parameter, see Churazov et al. 2003, Eq. 4\n",
    "                       eta = 0 # scaling of B-field with electron denstiy\n",
    "                       )\n",
    "    px2, py2, pa2 = ml2.run()\n",
    "    '''\n"
   ]
  },
  {
   "cell_type": "markdown",
   "metadata": {},
   "source": [
    "List the module names:"
   ]
  },
  {
   "cell_type": "markdown",
   "metadata": {},
   "source": [
    "## Plot the output "
   ]
  },
  {
   "cell_type": "code",
   "execution_count": 8,
   "metadata": {
    "scrolled": true
   },
   "outputs": [
    {
     "name": "stderr",
     "output_type": "stream",
     "text": [
      "\u001b[0;36mfont_manager.py:\u001b[0;35m1355\u001b[0;0m --- \u001b[1;31m\u001b[1;31mWARNING\u001b[1;0m\u001b[1;0m: findfont: Font family ['serif'] not found. Falling back to DejaVu Sans.\n"
     ]
    },
    {
     "data": {
      "image/png": "[encoded data removed]",
      "text/plain": [
       "<Figure size 432x288 with 1 Axes>"
      ]
     },
     "metadata": {
      "needs_background": "light"
     },
     "output_type": "display_data"
    }
   ],
   "source": [
    "plt.plot(EGeV, px[0] + py[0], label='ICM + EBL + GMF')\n",
    "plt.plot(EGeV, px2[0] + py2[0], label='ICM')\n",
    "plt.xscale('log')\n",
    "plt.yscale('linear')\n",
    "plt.ylim(0.4, 1.05)\n",
    "plt.xlim(3e-2, 1e2)\n",
    "plt.xlabel('Energy (GeV)')\n",
    "plt.ylabel('Photon survival probability')\n",
    "plt.legend(loc = 0, fontsize = 'medium')\n",
    "\n",
    "plt.annotate(r'$m_a = {0:.1f}\\,\\mathrm{{neV}}, g_{{a\\gamma}} = {1:.1f} \\times 10^{{-11}}\\,\\mathrm{{GeV}}^{{-1}}$'.format(ml.alp.m,ml.alp.g),\n",
    "             xy = (0.95,0.1), size = 'x-large', xycoords = 'axes fraction', ha = 'right')\n",
    "\n",
    "plt.subplots_adjust(left = 0.2)\n",
    "#plt.savefig(\"pgg.png\", dpi = 150)"
   ]
  },
  {
   "cell_type": "markdown",
   "metadata": {},
   "source": [
    "# Plot the B fields\n",
    "\n",
    "Plot r vs B field components of structured field, also plot electron density"
   ]
  },
  {
   "cell_type": "code",
   "execution_count": 18,
   "metadata": {},
   "outputs": [
    {
     "data": {
      "text/plain": [
       "<matplotlib.legend.Legend at 0x7f730e0a4ca0>"
      ]
     },
     "execution_count": 18,
     "metadata": {},
     "output_type": "execute_result"
    },
    {
     "data": {
      "image/png": "[encoded data removed]",
      "text/plain": [
       "<Figure size 432x288 with 1 Axes>"
      ]
     },
     "metadata": {
      "needs_background": "light"
     },
     "output_type": "display_data"
    }
   ],
   "source": [
    "r = ml.modules[0].r\n",
    "b_r = ml.modules[0]._Bfield_model.b_r\n",
    "b_theta = ml.modules[0]._Bfield_model.b_theta\n",
    "b_phi = ml.modules[0]._Bfield_model.b_phi\n",
    "plt.plot(r, b_r, label='$B_r$')\n",
    "plt.plot(r, b_theta, label=r'$B_\\theta$')\n",
    "plt.plot(r, b_phi, label=r'$B_\\phi$')\n",
    "plt.xlabel(r'$r [\\SI{}{\\kilo\\parsec}]$')\n",
    "plt.ylabel(r'$B [\\SI{}{\\micro\\gauss}]$')\n",
    "plt.legend()"
   ]
  },
  {
   "cell_type": "code",
   "execution_count": 20,
   "metadata": {},
   "outputs": [
    {
     "data": {
      "text/plain": [
       "Text(0.5, 0, '$r$ (kpc)')"
      ]
     },
     "execution_count": 20,
     "metadata": {},
     "output_type": "execute_result"
    },
    {
     "data": {
      "image/png": "[encoded data removed]",
      "text/plain": [
       "<Figure size 432x288 with 1 Axes>"
      ]
     },
     "metadata": {
      "needs_background": "light"
     },
     "output_type": "display_data"
    }
   ],
   "source": [
    "nel = ml.modules[0]._nelicm(r)   # in cm^-3\n",
    "plt.plot(r, nel)\n",
    "plt.yscale('log')\n",
    "plt.xscale('log')\n",
    "plt.ylabel('$n_\\mathrm{el}$ (cm$^{-3}$)')\n",
    "plt.xlabel('$r$ (kpc)')"
   ]
  },
  {
   "cell_type": "markdown",
   "metadata": {},
   "source": [
    "# Calculate rotation measure\n",
    "\n",
    "Faraday RM can be calculated via a method of the structured field model, arguments areelectron density evaluated at r = structured_field.r in cm^-3 and eta (scaling exponent of B with electron density)"
   ]
  },
  {
   "cell_type": "code",
   "execution_count": 11,
   "metadata": {},
   "outputs": [
    {
     "data": {
      "text/plain": [
       "7309.7713888988355"
      ]
     },
     "execution_count": 11,
     "metadata": {},
     "output_type": "execute_result"
    }
   ],
   "source": [
    "ml.modules[0]._Bfield_model.rotation_measure(nel)   # in rad * m^-2"
   ]
  },
  {
   "cell_type": "markdown",
   "metadata": {},
   "source": [
    "Taylor et al. (2006) found RM values between 6500 and 7500 rad m^-2"
   ]
  },
  {
   "cell_type": "code",
   "execution_count": 23,
   "metadata": {},
   "outputs": [
    {
     "name": "stderr",
     "output_type": "stream",
     "text": [
      "\u001b[0;36m   core.py:\u001b[0;35m 652\u001b[0;0m --- \u001b[1;36m\u001b[1;36m\u001b[1;36m\u001b[1;36m\u001b[1;36m\u001b[1;36m\u001b[1;36m\u001b[1;36m\u001b[1;36m\u001b[1;36m\u001b[1;36m\u001b[1;36m\u001b[1;36m\u001b[1;36m\u001b[1;36m\u001b[1;36m\u001b[1;36m\u001b[1;36m\u001b[1;36m\u001b[1;36m\u001b[1;36m\u001b[1;36m\u001b[1;36m\u001b[1;36m\u001b[1;36m\u001b[1;36m\u001b[1;36m\u001b[1;36m\u001b[1;36m\u001b[1;36m\u001b[1;36m\u001b[1;36m\u001b[1;36m\u001b[1;36m\u001b[1;36m\u001b[1;36m\u001b[1;36m\u001b[1;36m\u001b[1;36m\u001b[1;36m\u001b[1;36mINFO\u001b[1;0m\u001b[1;0m\u001b[1;0m\u001b[1;0m\u001b[1;0m\u001b[1;0m\u001b[1;0m\u001b[1;0m\u001b[1;0m\u001b[1;0m\u001b[1;0m\u001b[1;0m\u001b[1;0m\u001b[1;0m\u001b[1;0m\u001b[1;0m\u001b[1;0m\u001b[1;0m\u001b[1;0m\u001b[1;0m\u001b[1;0m\u001b[1;0m\u001b[1;0m\u001b[1;0m\u001b[1;0m\u001b[1;0m\u001b[1;0m\u001b[1;0m\u001b[1;0m\u001b[1;0m\u001b[1;0m\u001b[1;0m\u001b[1;0m\u001b[1;0m\u001b[1;0m\u001b[1;0m\u001b[1;0m\u001b[1;0m\u001b[1;0m\u001b[1;0m\u001b[1;0m: Running Module 0: <class 'github.galps.gammaALPs.base.environs.MixICMStructured'>\n"
     ]
    },
    {
     "name": "stdout",
     "output_type": "stream",
     "text": [
      "3.9269908169872414\n",
      "You need to manually set dL_vec!\n"
     ]
    },
    {
     "name": "stderr",
     "output_type": "stream",
     "text": [
      "\u001b[0;36m   core.py:\u001b[0;35m 652\u001b[0;0m --- \u001b[1;36m\u001b[1;36m\u001b[1;36m\u001b[1;36m\u001b[1;36m\u001b[1;36m\u001b[1;36m\u001b[1;36m\u001b[1;36m\u001b[1;36m\u001b[1;36m\u001b[1;36m\u001b[1;36m\u001b[1;36m\u001b[1;36m\u001b[1;36m\u001b[1;36m\u001b[1;36m\u001b[1;36m\u001b[1;36m\u001b[1;36m\u001b[1;36m\u001b[1;36m\u001b[1;36m\u001b[1;36m\u001b[1;36m\u001b[1;36m\u001b[1;36m\u001b[1;36m\u001b[1;36m\u001b[1;36m\u001b[1;36m\u001b[1;36m\u001b[1;36m\u001b[1;36m\u001b[1;36m\u001b[1;36m\u001b[1;36m\u001b[1;36m\u001b[1;36m\u001b[1;36m\u001b[1;36mINFO\u001b[1;0m\u001b[1;0m\u001b[1;0m\u001b[1;0m\u001b[1;0m\u001b[1;0m\u001b[1;0m\u001b[1;0m\u001b[1;0m\u001b[1;0m\u001b[1;0m\u001b[1;0m\u001b[1;0m\u001b[1;0m\u001b[1;0m\u001b[1;0m\u001b[1;0m\u001b[1;0m\u001b[1;0m\u001b[1;0m\u001b[1;0m\u001b[1;0m\u001b[1;0m\u001b[1;0m\u001b[1;0m\u001b[1;0m\u001b[1;0m\u001b[1;0m\u001b[1;0m\u001b[1;0m\u001b[1;0m\u001b[1;0m\u001b[1;0m\u001b[1;0m\u001b[1;0m\u001b[1;0m\u001b[1;0m\u001b[1;0m\u001b[1;0m\u001b[1;0m\u001b[1;0m\u001b[1;0m: Running Module 0: <class 'github.galps.gammaALPs.base.environs.MixICMStructured'>\n"
     ]
    },
    {
     "name": "stdout",
     "output_type": "stream",
     "text": [
      "True\n",
      "3.9269908169872414\n",
      "You need to manually set dL_vec!\n"
     ]
    },
    {
     "name": "stderr",
     "output_type": "stream",
     "text": [
      "\u001b[0;36m   core.py:\u001b[0;35m 652\u001b[0;0m --- \u001b[1;36m\u001b[1;36m\u001b[1;36m\u001b[1;36m\u001b[1;36m\u001b[1;36m\u001b[1;36m\u001b[1;36m\u001b[1;36m\u001b[1;36m\u001b[1;36m\u001b[1;36m\u001b[1;36m\u001b[1;36m\u001b[1;36m\u001b[1;36m\u001b[1;36m\u001b[1;36m\u001b[1;36m\u001b[1;36m\u001b[1;36m\u001b[1;36m\u001b[1;36m\u001b[1;36m\u001b[1;36m\u001b[1;36m\u001b[1;36m\u001b[1;36m\u001b[1;36m\u001b[1;36m\u001b[1;36m\u001b[1;36m\u001b[1;36m\u001b[1;36m\u001b[1;36m\u001b[1;36m\u001b[1;36m\u001b[1;36m\u001b[1;36m\u001b[1;36m\u001b[1;36m\u001b[1;36m\u001b[1;36mINFO\u001b[1;0m\u001b[1;0m\u001b[1;0m\u001b[1;0m\u001b[1;0m\u001b[1;0m\u001b[1;0m\u001b[1;0m\u001b[1;0m\u001b[1;0m\u001b[1;0m\u001b[1;0m\u001b[1;0m\u001b[1;0m\u001b[1;0m\u001b[1;0m\u001b[1;0m\u001b[1;0m\u001b[1;0m\u001b[1;0m\u001b[1;0m\u001b[1;0m\u001b[1;0m\u001b[1;0m\u001b[1;0m\u001b[1;0m\u001b[1;0m\u001b[1;0m\u001b[1;0m\u001b[1;0m\u001b[1;0m\u001b[1;0m\u001b[1;0m\u001b[1;0m\u001b[1;0m\u001b[1;0m\u001b[1;0m\u001b[1;0m\u001b[1;0m\u001b[1;0m\u001b[1;0m\u001b[1;0m\u001b[1;0m: Running Module 0: <class 'github.galps.gammaALPs.base.environs.MixICMStructured'>\n"
     ]
    },
    {
     "name": "stdout",
     "output_type": "stream",
     "text": [
      "True\n",
      "3.9269908169872414\n",
      "You need to manually set dL_vec!\n"
     ]
    },
    {
     "name": "stderr",
     "output_type": "stream",
     "text": [
      "\u001b[0;36m   core.py:\u001b[0;35m 652\u001b[0;0m --- \u001b[1;36m\u001b[1;36m\u001b[1;36m\u001b[1;36m\u001b[1;36m\u001b[1;36m\u001b[1;36m\u001b[1;36m\u001b[1;36m\u001b[1;36m\u001b[1;36m\u001b[1;36m\u001b[1;36m\u001b[1;36m\u001b[1;36m\u001b[1;36m\u001b[1;36m\u001b[1;36m\u001b[1;36m\u001b[1;36m\u001b[1;36m\u001b[1;36m\u001b[1;36m\u001b[1;36m\u001b[1;36m\u001b[1;36m\u001b[1;36m\u001b[1;36m\u001b[1;36m\u001b[1;36m\u001b[1;36m\u001b[1;36m\u001b[1;36m\u001b[1;36m\u001b[1;36m\u001b[1;36m\u001b[1;36m\u001b[1;36m\u001b[1;36m\u001b[1;36m\u001b[1;36m\u001b[1;36m\u001b[1;36m\u001b[1;36mINFO\u001b[1;0m\u001b[1;0m\u001b[1;0m\u001b[1;0m\u001b[1;0m\u001b[1;0m\u001b[1;0m\u001b[1;0m\u001b[1;0m\u001b[1;0m\u001b[1;0m\u001b[1;0m\u001b[1;0m\u001b[1;0m\u001b[1;0m\u001b[1;0m\u001b[1;0m\u001b[1;0m\u001b[1;0m\u001b[1;0m\u001b[1;0m\u001b[1;0m\u001b[1;0m\u001b[1;0m\u001b[1;0m\u001b[1;0m\u001b[1;0m\u001b[1;0m\u001b[1;0m\u001b[1;0m\u001b[1;0m\u001b[1;0m\u001b[1;0m\u001b[1;0m\u001b[1;0m\u001b[1;0m\u001b[1;0m\u001b[1;0m\u001b[1;0m\u001b[1;0m\u001b[1;0m\u001b[1;0m\u001b[1;0m\u001b[1;0m: Running Module 0: <class 'github.galps.gammaALPs.base.environs.MixICMStructured'>\n"
     ]
    },
    {
     "name": "stdout",
     "output_type": "stream",
     "text": [
      "True\n",
      "3.9269908169872414\n",
      "You need to manually set dL_vec!\n",
      "True\n"
     ]
    },
    {
     "data": {
      "image/png": "[encoded data removed]",
      "text/plain": [
       "<Figure size 432x288 with 1 Axes>"
      ]
     },
     "metadata": {
      "needs_background": "light"
     },
     "output_type": "display_data"
    }
   ],
   "source": [
    "\n",
    "m = 2\n",
    "b0=8.3\n",
    "pin = np.diag((1, 1, 0)) * 0.5\n",
    "\n",
    "\n",
    "source = Source(z = 0.017559, ra = '03h19m48.1s', dec = '+41d30m42s')\n",
    "for c, g in enumerate([1e2, 6e1, 3e1, 1e1]):\n",
    "    pgg = np.loadtxt(f'/mnt/5012B5DF12B5C9EC/master_thesis/fermilat/NGC_1275/ts_limit/structured_field/pgg_struc_{c}_from_array.dat')\n",
    "    alp = ALP(m,g)\n",
    "    ml = ModuleList(alp, source, pin=pin, EGeV=EGeV)\n",
    "    ml.add_propagation(\"ICMStructured\", \n",
    "                       0, # position of module counted from the source. \n",
    "                       B0 = 8.3,  # rms of B field\n",
    "                       R = 93,\n",
    "                       theta = 225,\n",
    "                       theta_rad=False,\n",
    "                       pa=147,\n",
    "                       cell_num=1000,\n",
    "                       pa_rad=False,\n",
    "                       n0 = 3.9e-2,  # normalization of electron density\n",
    "                       n2 = 4.05e-3, # second normalization of electron density, see Churazov et al. 2003, Eq. 4\n",
    "                       r_abell = 500., # extension of the cluster\n",
    "                       r_core = 80.,   # electron density parameter, see Churazov et al. 2003, Eq. 4\n",
    "                       r_core2 = 280., # electron density parameter, see Churazov et al. 2003, Eq. 4\n",
    "                       beta = 1.2,  # electron density parameter, see Churazov et al. 2003, Eq. 4\n",
    "                       beta2= 0.58, # electron density parameter, see Churazov et al. 2003, Eq. 4\n",
    "                       eta = 0 # scaling of B-field with electron denstiy\n",
    "                       )\n",
    "    #ml.add_propagation(\"EBL\",1, eblmodel='dominguez')\n",
    "    #ml.add_propagation(\"GMF\",2, model='pshirkov', model_sym='BSS')\n",
    "    px, py, pa = ml.run()\n",
    "    psurv = px + py\n",
    "    print(np.all(np.isclose(psurv[0], pgg)))\n",
    "    plt.plot(EGeV, psurv[0], label='new module')\n",
    "    plt.plot(EGeV, pgg, label='from array')\n",
    "plt.xscale('log')"
   ]
  },
  {
   "cell_type": "code",
   "execution_count": null,
   "metadata": {},
   "outputs": [],
   "source": []
  },
  {
   "cell_type": "code",
   "execution_count": null,
   "metadata": {},
   "outputs": [],
   "source": []
  },
  {
   "cell_type": "code",
   "execution_count": null,
   "metadata": {},
   "outputs": [],
   "source": []
  },
  {
   "cell_type": "code",
   "execution_count": null,
   "metadata": {},
   "outputs": [],
   "source": []
  },
  {
   "cell_type": "code",
   "execution_count": null,
   "metadata": {},
   "outputs": [],
   "source": []
  },
  {
   "cell_type": "code",
   "execution_count": null,
   "metadata": {},
   "outputs": [],
   "source": []
  },
  {
   "cell_type": "code",
   "execution_count": null,
   "metadata": {},
   "outputs": [],
   "source": []
  },
  {
   "cell_type": "code",
   "execution_count": null,
   "metadata": {},
   "outputs": [],
   "source": []
  }
 ],
 "metadata": {
  "kernelspec": {
   "display_name": "Python 3",
   "language": "python",
   "name": "python3"
  },
  "language_info": {
   "codemirror_mode": {
    "name": "ipython",
    "version": 3
   },
   "file_extension": ".py",
   "mimetype": "text/x-python",
   "name": "python",
   "nbconvert_exporter": "python",
   "pygments_lexer": "ipython3",
   "version": "3.9.2"
  }
 },
 "nbformat": 4,
 "nbformat_minor": 2
}
