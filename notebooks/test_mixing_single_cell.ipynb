{
 "cells": [
  {
   "cell_type": "markdown",
   "metadata": {},
   "source": [
    "# Mixing in a homogeneous magnetic field\n",
    "\n",
    "This tutorial demonstrates the most simple use case of the gammaALPs code, namely the mixing between photons and ALPs in a homogeneous magnetic field. The magnetic-field parameters are probably not very realisitic, but the results nicely illustrate some of the main features of photon-ALP mixing. "
   ]
  },
  {
   "cell_type": "markdown",
   "metadata": {},
   "source": [
    "We first import the relevant modules:"
   ]
  },
  {
   "cell_type": "code",
   "execution_count": 1,
   "metadata": {},
   "outputs": [],
   "source": [
    "from gammaALPs.core import Source, ALP, ModuleList\n",
    "from gammaALPs.base.transfer import EminGeV, EmaxGeV\n",
    "import numpy as np\n",
    "import matplotlib.pyplot as plt\n",
    "from astropy import constants as c\n",
    "from astropy import units as u"
   ]
  },
  {
   "cell_type": "markdown",
   "metadata": {},
   "source": [
    "And set the ALP parameters:"
   ]
  },
  {
   "cell_type": "code",
   "execution_count": 2,
   "metadata": {},
   "outputs": [],
   "source": [
    "m, g = 10., 3.\n",
    "alp = ALP(m, g)"
   ]
  },
  {
   "cell_type": "markdown",
   "metadata": {},
   "source": [
    "Let's define an energy range for this example, in GeV."
   ]
  },
  {
   "cell_type": "code",
   "execution_count": 3,
   "metadata": {},
   "outputs": [],
   "source": [
    "EGeV = np.logspace(0.,8.,1000)"
   ]
  },
  {
   "cell_type": "markdown",
   "metadata": {},
   "source": [
    "For the initial polarization, we use a fully polarized photon beam,"
   ]
  },
  {
   "cell_type": "code",
   "execution_count": 4,
   "metadata": {},
   "outputs": [],
   "source": [
    "pin = np.diag((1., 0., 0.))"
   ]
  },
  {
   "cell_type": "markdown",
   "metadata": {},
   "source": [
    "And we define some dummy source:"
   ]
  },
  {
   "cell_type": "code",
   "execution_count": 5,
   "metadata": {},
   "outputs": [],
   "source": [
    "src = Source(z=0., l=0., b=0.)"
   ]
  },
  {
   "cell_type": "markdown",
   "metadata": {},
   "source": [
    "With the defined `alp`, `src`, initial polarization `pin` and energy range `EGeV`, we can now initialize our module list"
   ]
  },
  {
   "cell_type": "code",
   "execution_count": 6,
   "metadata": {},
   "outputs": [],
   "source": [
    "ml = ModuleList(alp, src, pin=pin, EGeV=EGeV, seed=0)"
   ]
  },
  {
   "cell_type": "markdown",
   "metadata": {},
   "source": [
    "We add a single propagation enivironment, mixing in a cell-like field in a galaxy cluster. \n",
    "By setting `eta` and `beta` to zero, we force the electron density to be constant, so \n",
    "that neither the magnetic field nor the electron density change with propagation distance. \n",
    "We choose arbitrary values for B-field strength and electron density that give nice results for illustration. "
   ]
  },
  {
   "cell_type": "code",
   "execution_count": 7,
   "metadata": {},
   "outputs": [
    {
     "name": "stderr",
     "output_type": "stream",
     "text": [
      "\u001b[0;36menvirons.py:\u001b[0;35m 257\u001b[0;0m --- \u001b[1;36mINFO\u001b[1;0m: Using inputted chi\n",
      "\u001b[0;36menvirons.py:\u001b[0;35m 270\u001b[0;0m --- \u001b[1;31mWARNING\u001b[1;0m: r_abell <= L0: assuming one domain from 0. to L0\n"
     ]
    }
   ],
   "source": [
    "ml.add_propagation(environ='ICMCell',\n",
    "                   order=0,   # order of the module\n",
    "                   B0=1.,  # B field strength\n",
    "                   L0=10.,  # cell size\n",
    "                   nsim=1,  # one single realization\n",
    "                   n0=1e-3,  # electron density\n",
    "                   r_abell=10.1,  # full path, chosen that we only have a single cell\n",
    "                   beta=0., \n",
    "                   eta=0.\n",
    "                  )"
   ]
  },
  {
   "cell_type": "markdown",
   "metadata": {},
   "source": [
    "Now we explicitly set the angle $\\psi$ between the transversal magnetic field and the $x$ direction to $\\pi / 2$ so that the $x$ polarization will fully mix. "
   ]
  },
  {
   "cell_type": "code",
   "execution_count": 8,
   "metadata": {},
   "outputs": [],
   "source": [
    "ml.modules[0].psin = np.ones_like(ml.modules[0].psin) * np.pi / 2."
   ]
  },
  {
   "cell_type": "markdown",
   "metadata": {},
   "source": [
    "We run the photon-ALP calculation to get the final oscillation probabilities into the two photon polarization states and into the ALP state"
   ]
  },
  {
   "cell_type": "code",
   "execution_count": 9,
   "metadata": {},
   "outputs": [
    {
     "name": "stderr",
     "output_type": "stream",
     "text": [
      "\u001b[0;36m   core.py:\u001b[0;35m 644\u001b[0;0m --- \u001b[1;36mINFO\u001b[1;0m: Running Module 0: <class 'gammaALPs.base.environs.MixICMCell'>\n"
     ]
    },
    {
     "name": "stdout",
     "output_type": "stream",
     "text": [
      "(1, 1000)\n"
     ]
    }
   ],
   "source": [
    "px, py, pa = ml.run()\n",
    "print (pa.shape)"
   ]
  },
  {
   "cell_type": "markdown",
   "metadata": {},
   "source": [
    "And plot the results:"
   ]
  },
  {
   "cell_type": "code",
   "execution_count": 10,
   "metadata": {},
   "outputs": [
    {
     "data": {
      "text/plain": [
       "Text(0, 0.5, '$P_{a\\\\gamma}$')"
      ]
     },
     "execution_count": 10,
     "metadata": {},
     "output_type": "execute_result"
    },
    {
     "data": {
      "image/png": "[encoded data removed]",
      "text/plain": [
       "<Figure size 432x288 with 1 Axes>"
      ]
     },
     "metadata": {
      "needs_background": "light"
     },
     "output_type": "display_data"
    }
   ],
   "source": [
    "plt.semilogx(EGeV, pa[0], lw=2)\n",
    "\n",
    "# the critical energy, onset of strong mixing regime\n",
    "plt.axvline(EminGeV(m_neV=ml.alp.m, g11=ml.alp.g, BmuG=ml.modules[0].B, n_cm3=ml.modules[0].nel),\n",
    "            lw=1., ls='--', color='k')\n",
    "\n",
    "# maximum energy, end of strong mixing regime\n",
    "plt.axvline(EmaxGeV(g11=ml.alp.g, BmuG=ml.modules[0].B),\n",
    "            lw=1., ls='-.', color='k')\n",
    "\n",
    "plt.xlabel(\"Energy (GeV)\")\n",
    "plt.ylabel(\"$P_{a\\gamma}$\")"
   ]
  },
  {
   "cell_type": "markdown",
   "metadata": {},
   "source": [
    "# Do the same but for ALPs experiment"
   ]
  },
  {
   "cell_type": "code",
   "execution_count": 11,
   "metadata": {},
   "outputs": [
    {
     "name": "stdout",
     "output_type": "stream",
     "text": [
      "1.1652650228684234 eV\n"
     ]
    }
   ],
   "source": [
    "# center energy around 1064 nm\n",
    "wavelength = 1064 * u.nm\n",
    "energy = ((c.c / wavelength.to('m')) * c.h).to('eV')\n",
    "print(energy)"
   ]
  },
  {
   "cell_type": "code",
   "execution_count": 12,
   "metadata": {},
   "outputs": [],
   "source": [
    "EGeV = np.logspace(np.log10(energy.value) - 4,np.log10(energy.value) + 14.5, 2000) * u.eV.to(\"GeV\")"
   ]
  },
  {
   "cell_type": "markdown",
   "metadata": {},
   "source": [
    "ALPS II specs"
   ]
  },
  {
   "cell_type": "code",
   "execution_count": 13,
   "metadata": {},
   "outputs": [
    {
     "name": "stdout",
     "output_type": "stream",
     "text": [
      "53000000000.0 3.42226292965325e-18\n"
     ]
    }
   ],
   "source": [
    "B = 5.3 * u.T.to('1e-6G')\n",
    "L = 8.8 * 12 * u.m.to('kpc')\n",
    "print(B, L)"
   ]
  },
  {
   "cell_type": "code",
   "execution_count": 14,
   "metadata": {},
   "outputs": [],
   "source": [
    "pin = np.diag((1., 0., 0.))"
   ]
  },
  {
   "cell_type": "code",
   "execution_count": 15,
   "metadata": {},
   "outputs": [],
   "source": [
    "ml_alps = ModuleList(alp, src, pin=pin, EGeV=EGeV, seed=0)"
   ]
  },
  {
   "cell_type": "code",
   "execution_count": 16,
   "metadata": {},
   "outputs": [
    {
     "name": "stderr",
     "output_type": "stream",
     "text": [
      "\u001b[0;36menvirons.py:\u001b[0;35m 257\u001b[0;0m --- \u001b[1;36m\u001b[1;36mINFO\u001b[1;0m\u001b[1;0m: Using inputted chi\n",
      "\u001b[0;36menvirons.py:\u001b[0;35m 270\u001b[0;0m --- \u001b[1;31m\u001b[1;31mWARNING\u001b[1;0m\u001b[1;0m: r_abell <= L0: assuming one domain from 0. to L0\n"
     ]
    }
   ],
   "source": [
    "ml_alps.add_propagation(environ='ICMCell',\n",
    "                   order=0,   # order of the module\n",
    "                   B0=B,  # B field strength\n",
    "                   L0=L,  # cell size\n",
    "                   nsim=1,  # one single realization\n",
    "                   n0=1e-100,  # electron density\n",
    "                   r_abell=L * 1.1,  # full path, chosen that we only have a single cell\n",
    "                   beta=0., \n",
    "                   eta=0.\n",
    "                  )"
   ]
  },
  {
   "cell_type": "code",
   "execution_count": 17,
   "metadata": {},
   "outputs": [],
   "source": [
    "ml_alps.modules[0].psin = np.ones_like(ml_alps.modules[0].psin) * np.pi / 2."
   ]
  },
  {
   "cell_type": "code",
   "execution_count": 18,
   "metadata": {},
   "outputs": [],
   "source": [
    "ml_alps.alp.m = 1e4\n",
    "ml_alps.alp.g = 2."
   ]
  },
  {
   "cell_type": "code",
   "execution_count": 19,
   "metadata": {},
   "outputs": [
    {
     "name": "stderr",
     "output_type": "stream",
     "text": [
      "\u001b[0;36m   core.py:\u001b[0;35m 644\u001b[0;0m --- \u001b[1;36m\u001b[1;36mINFO\u001b[1;0m\u001b[1;0m: Running Module 0: <class 'gammaALPs.base.environs.MixICMCell'>\n"
     ]
    },
    {
     "name": "stdout",
     "output_type": "stream",
     "text": [
      "(1, 2000)\n"
     ]
    }
   ],
   "source": [
    "px, py, pa = ml_alps.run()\n",
    "print (pa.shape)"
   ]
  },
  {
   "cell_type": "code",
   "execution_count": 20,
   "metadata": {},
   "outputs": [],
   "source": [
    "Dosc = np.real(np.squeeze(ml_alps.modules[0]._Dosc))\n",
    "Dag = np.real(np.squeeze(ml_alps.modules[0]._Dag))\n",
    "Da = np.real(np.squeeze(ml_alps.modules[0]._Da))\n",
    "Pag_analytical = Dag ** 2. * (np.sin(Dosc * L / 2.))**2. / (Dosc / 2.)**2.\n",
    "EeV = EGeV * u.GeV.to('eV')"
   ]
  },
  {
   "cell_type": "code",
   "execution_count": 21,
   "metadata": {},
   "outputs": [
    {
     "data": {
      "text/plain": [
       "Text(0, 0.5, '$P_{a\\\\gamma}$')"
      ]
     },
     "execution_count": 21,
     "metadata": {},
     "output_type": "execute_result"
    },
    {
     "data": {
      "image/png": "[encoded data removed]",
      "text/plain": [
       "<Figure size 432x288 with 1 Axes>"
      ]
     },
     "metadata": {
      "needs_background": "light"
     },
     "output_type": "display_data"
    }
   ],
   "source": [
    "plt.semilogx(EGeV * u.GeV.to('eV'), (pa)[0], lw=2)\n",
    "\n",
    "# the critical energy, onset of strong mixing regime\n",
    "plt.axvline(EminGeV(m_neV=ml_alps.alp.m,\n",
    "                    g11=ml_alps.alp.g,\n",
    "                    BmuG=ml_alps.modules[0].B,\n",
    "                    n_cm3=ml_alps.modules[0].nel) * u.GeV.to('eV'),\n",
    "            lw=1., ls='--', color='k')\n",
    "\n",
    "# maximum energy, end of strong mixing regime\n",
    "plt.axvline(EmaxGeV(g11=ml_alps.alp.g, BmuG=ml_alps.modules[0].B) * u.GeV.to('eV'),\n",
    "            lw=1., ls='-.', color='k')\n",
    "\n",
    "\n",
    "Pag_approx = (Dag[int(len(Dag) / 2)] * L)**2.\n",
    "plt.axhline(Pag_approx, ls='--', color='k')\n",
    "\n",
    "plt.xlabel(\"Energy (eV)\")\n",
    "plt.ylabel(\"$P_{a\\gamma}$\")"
   ]
  },
  {
   "cell_type": "code",
   "execution_count": 22,
   "metadata": {},
   "outputs": [
    {
     "data": {
      "text/plain": [
       "Text(0, 0.5, '$P_{a\\\\gamma}$')"
      ]
     },
     "execution_count": 22,
     "metadata": {},
     "output_type": "execute_result"
    },
    {
     "data": {
      "image/png": "[encoded data removed]",
      "text/plain": [
       "<Figure size 432x288 with 1 Axes>"
      ]
     },
     "metadata": {
      "needs_background": "light"
     },
     "output_type": "display_data"
    }
   ],
   "source": [
    "plt.semilogx(EGeV * u.GeV.to('eV'), (pa)[0], lw=2)\n",
    "\n",
    "# the critical energy, onset of strong mixing regime\n",
    "plt.axvline(EminGeV(m_neV=ml_alps.alp.m,\n",
    "                    g11=ml_alps.alp.g,\n",
    "                    BmuG=ml_alps.modules[0].B,\n",
    "                    n_cm3=ml_alps.modules[0].nel) * u.GeV.to('eV'),\n",
    "            lw=1., ls='--', color='k')\n",
    "\n",
    "# maximum energy, end of strong mixing regime\n",
    "plt.axvline(EmaxGeV(g11=ml_alps.alp.g, BmuG=ml_alps.modules[0].B) * u.GeV.to('eV'),\n",
    "            lw=1., ls='-.', color='k')\n",
    "\n",
    "\n",
    "Pag_approx = (Dag[int(len(Dag) / 2)] * L)**2.\n",
    "plt.axhline(Pag_approx, ls='--', color='k')\n",
    "\n",
    "plt.xlabel(\"Energy (eV)\")\n",
    "plt.ylabel(\"$P_{a\\gamma}$\")"
   ]
  },
  {
   "cell_type": "code",
   "execution_count": 23,
   "metadata": {},
   "outputs": [
    {
     "data": {
      "image/png": "[encoded data removed]",
      "text/plain": [
       "<Figure size 432x288 with 1 Axes>"
      ]
     },
     "metadata": {
      "needs_background": "dark"
     },
     "output_type": "display_data"
    }
   ],
   "source": [
    "from matplotlib.ticker import NullFormatter, LogLocator\n",
    "\n",
    "plt.semilogx(EGeV * u.GeV.to('eV'), (pa)[0] * 1e17, lw=2, color='cyan')\n",
    "\n",
    "# the critical energy, onset of strong mixing regime\n",
    "#plt.axvline(EminGeV(m_neV=ml_alps.alp.m,\n",
    "#                    g11=ml_alps.alp.g,\n",
    "#                    BmuG=ml_alps.modules[0].B,\n",
    "#                    n_cm3=ml_alps.modules[0].nel) * u.GeV.to('eV'),\n",
    "#            lw=1., ls='--', color='k')\n",
    "\n",
    "# maximum energy, end of strong mixing regime\n",
    "#plt.axvline(EmaxGeV(g11=ml_alps.alp.g, BmuG=ml_alps.modules[0].B) * u.GeV.to('eV'),\n",
    "#            lw=1., ls='-.', color='k')\n",
    "n_lines = 10\n",
    "diff_linewidth = 1.05\n",
    "alpha_value = 0.03\n",
    "\n",
    "for n in range(1, n_lines+1):    \n",
    "    plt.semilogx(\n",
    "        EGeV * u.GeV.to('eV'), (pa)[0] * 1e17,\n",
    "        linewidth=2+(diff_linewidth*n),\n",
    "        alpha=alpha_value,\n",
    "        color='cyan')\n",
    "\n",
    "Pag_approx = (Dag[int(len(Dag) / 2)] * L)**2.\n",
    "#plt.axhline(Pag_approx, ls='--', color='k')\n",
    "\n",
    "plt.xlabel(\"Energy (eV)\", fontsize='x-large', color='white')\n",
    "plt.ylabel(\"$P_{a\\gamma} (10^{-17})$\", fontsize='x-large', color='white')\n",
    "ax = plt.gca()\n",
    "ax.tick_params(labelsize='x-large', color='white', labelcolor='white', which='both')\n",
    "x_major = LogLocator(base = 10.0, numticks = 10)\n",
    "ax.xaxis.set_major_locator(x_major)\n",
    "x_minor = LogLocator(base = 10.0, numticks = 30)\n",
    "ax.xaxis.set_minor_locator(x_minor)\n",
    "ax.xaxis.set_minor_formatter(NullFormatter())\n",
    "\n",
    "ax.spines['bottom'].set_color('white')\n",
    "ax.spines['top'].set_color('white') \n",
    "ax.spines['right'].set_color('white')\n",
    "ax.spines['left'].set_color('white')\n",
    "#ax.grid(color='0.9', lw=0.5, ls='-')\n",
    "plt.savefig(\"ALPS_II_conversion_prob.png\", transparent=True, dpi=200)"
   ]
  },
  {
   "cell_type": "code",
   "execution_count": 24,
   "metadata": {},
   "outputs": [
    {
     "name": "stdout",
     "output_type": "stream",
     "text": [
      "[1. 1. 1. ... 1. 1. 1.]\n"
     ]
    },
    {
     "data": {
      "text/plain": [
       "0.3183098861837907"
      ]
     },
     "execution_count": 24,
     "metadata": {},
     "output_type": "execute_result"
    },
    {
     "data": {
      "image/png": "[encoded data removed]",
      "text/plain": [
       "<Figure size 432x288 with 1 Axes>"
      ]
     },
     "metadata": {
      "needs_background": "light"
     },
     "output_type": "display_data"
    }
   ],
   "source": [
    "plt.semilogx(EeV, Pag_analytical)\n",
    "plt.semilogx(EeV, (pa)[0], lw=2, ls='--')\n",
    "print(Pag_analytical / (pa)[0])\n",
    "Pag_analytical[-1] / (pa)[0,-1] / np.pi"
   ]
  },
  {
   "cell_type": "code",
   "execution_count": 25,
   "metadata": {},
   "outputs": [],
   "source": [
    "laser_power = 150e3 * u.J / u.s  # laser power times power build up in production cavity\n",
    "build_up_rc = 17e3\n",
    "overlap = 0.95\n",
    "\n",
    "photon_rate = overlap ** 2. * laser_power * build_up_rc / energy.to('J') * Pag_approx ** 2."
   ]
  },
  {
   "cell_type": "code",
   "execution_count": 26,
   "metadata": {},
   "outputs": [
    {
     "name": "stdout",
     "output_type": "stream",
     "text": [
      "1.1394718255959822e-05 1 / s\n"
     ]
    }
   ],
   "source": [
    "print(photon_rate)"
   ]
  },
  {
   "cell_type": "code",
   "execution_count": 27,
   "metadata": {},
   "outputs": [],
   "source": [
    "Tobs = 1. * u.day.to('s') * u.s"
   ]
  },
  {
   "cell_type": "code",
   "execution_count": 28,
   "metadata": {},
   "outputs": [
    {
     "data": {
      "text/latex": [
       "$0.98450366 \\; \\mathrm{}$"
      ],
      "text/plain": [
       "<Quantity 0.98450366>"
      ]
     },
     "execution_count": 28,
     "metadata": {},
     "output_type": "execute_result"
    }
   ],
   "source": [
    "photon_rate * Tobs"
   ]
  },
  {
   "cell_type": "code",
   "execution_count": 29,
   "metadata": {},
   "outputs": [
    {
     "data": {
      "text/latex": [
       "$5.3563 \\times 10^{23} \\; \\mathrm{\\frac{1}{s}}$"
      ],
      "text/plain": [
       "<Quantity 5.35630003e+23 1 / s>"
      ]
     },
     "execution_count": 29,
     "metadata": {},
     "output_type": "execute_result"
    }
   ],
   "source": [
    "1e5 * u.J / u.s / energy.to('J')"
   ]
  },
  {
   "cell_type": "code",
   "execution_count": 30,
   "metadata": {},
   "outputs": [
    {
     "data": {
      "text/latex": [
       "$4285.7143 \\; \\mathrm{\\frac{J}{s}}$"
      ],
      "text/plain": [
       "<Quantity 4285.71428571 J / s>"
      ]
     },
     "execution_count": 30,
     "metadata": {},
     "output_type": "execute_result"
    }
   ],
   "source": [
    "laser_power / 35"
   ]
  },
  {
   "cell_type": "markdown",
   "metadata": {},
   "source": [
    "## Solar axions from Primakoff"
   ]
  },
  {
   "cell_type": "code",
   "execution_count": 31,
   "metadata": {},
   "outputs": [],
   "source": [
    "def primakoff_solar(EkeV, g):\n",
    "    \"\"\"In axions / s / keV / cm^2, E in keV, g in 1e-11 GeV^-1\"\"\"\n",
    "    norm = 6.02e10\n",
    "    result = norm * (g / 10.)**2.\n",
    "    result *= EkeV ** 2.2481\n",
    "    result /= np.exp(EkeV / 1.205)\n",
    "    return result"
   ]
  },
  {
   "cell_type": "code",
   "execution_count": 32,
   "metadata": {},
   "outputs": [],
   "source": [
    "EkeV = np.logspace(-5, 2, 200)"
   ]
  },
  {
   "cell_type": "code",
   "execution_count": 33,
   "metadata": {},
   "outputs": [],
   "source": [
    "f = primakoff_solar(EkeV, 2.)"
   ]
  },
  {
   "cell_type": "code",
   "execution_count": 34,
   "metadata": {},
   "outputs": [
    {
     "data": {
      "text/plain": [
       "[<matplotlib.lines.Line2D at 0x11f25efa0>]"
      ]
     },
     "execution_count": 34,
     "metadata": {},
     "output_type": "execute_result"
    },
    {
     "data": {
      "image/png": "[encoded data removed]",
      "text/plain": [
       "<Figure size 432x288 with 1 Axes>"
      ]
     },
     "metadata": {
      "needs_background": "light"
     },
     "output_type": "display_data"
    }
   ],
   "source": [
    "plt.plot(EkeV, f)"
   ]
  },
  {
   "cell_type": "code",
   "execution_count": 35,
   "metadata": {},
   "outputs": [],
   "source": [
    "from scipy.integrate import simps"
   ]
  },
  {
   "cell_type": "code",
   "execution_count": 36,
   "metadata": {},
   "outputs": [
    {
     "name": "stdout",
     "output_type": "stream",
     "text": [
      "1.122756e+10\n"
     ]
    }
   ],
   "source": [
    "f_integral = simps(f * EkeV, np.log(EkeV))\n",
    "print(\"{0:e}\".format(f_integral))"
   ]
  },
  {
   "cell_type": "markdown",
   "metadata": {},
   "source": [
    "### IAXO parameters"
   ]
  },
  {
   "cell_type": "code",
   "execution_count": 37,
   "metadata": {},
   "outputs": [
    {
     "name": "stdout",
     "output_type": "stream",
     "text": [
      "25000000000.0 6.481558578888731e-19 2.261946710584651 m2\n"
     ]
    }
   ],
   "source": [
    "B = 2.5 * u.T.to(\"1e-6 G\")\n",
    "L = 20 * u.m.to(\"kpc\")\n",
    "A = 8. * (0.6 * u.m / 2)**2. * np.pi  # 8 magnet bores with 600 mm diameter\n",
    "print(B, L, A)"
   ]
  },
  {
   "cell_type": "code",
   "execution_count": 38,
   "metadata": {},
   "outputs": [
    {
     "name": "stdout",
     "output_type": "stream",
     "text": [
      "2.54e+14 cm2\n"
     ]
    }
   ],
   "source": [
    "print(\"{0:.2e}\".format(f_integral * A.to(\"cm^2\")))  # in units per s per cm^2"
   ]
  },
  {
   "cell_type": "code",
   "execution_count": 39,
   "metadata": {},
   "outputs": [],
   "source": [
    "EGeV = np.logspace(np.log10(1.) - 8,np.log10(1.) + 14., 2000) * u.keV.to(\"GeV\")"
   ]
  },
  {
   "cell_type": "code",
   "execution_count": 40,
   "metadata": {},
   "outputs": [],
   "source": [
    "ml_iaxo = ModuleList(alp, src, pin=pin, EGeV=EGeV, seed=0)"
   ]
  },
  {
   "cell_type": "code",
   "execution_count": 41,
   "metadata": {},
   "outputs": [
    {
     "name": "stderr",
     "output_type": "stream",
     "text": [
      "\u001b[0;36menvirons.py:\u001b[0;35m 257\u001b[0;0m --- \u001b[1;36m\u001b[1;36m\u001b[1;36mINFO\u001b[1;0m\u001b[1;0m\u001b[1;0m: Using inputted chi\n",
      "\u001b[0;36menvirons.py:\u001b[0;35m 270\u001b[0;0m --- \u001b[1;31m\u001b[1;31m\u001b[1;31mWARNING\u001b[1;0m\u001b[1;0m\u001b[1;0m: r_abell <= L0: assuming one domain from 0. to L0\n"
     ]
    }
   ],
   "source": [
    "ml_iaxo.add_propagation(environ='ICMCell',\n",
    "                   order=0,   # order of the module\n",
    "                   B0=B,  # B field strength\n",
    "                   L0=L,  # cell size\n",
    "                   nsim=1,  # one single realization\n",
    "                   n0=1e-100,  # electron density\n",
    "                   r_abell=L * 1.1,  # full path, chosen that we only have a single cell\n",
    "                   beta=0., \n",
    "                   eta=0.\n",
    "                  )"
   ]
  },
  {
   "cell_type": "code",
   "execution_count": 42,
   "metadata": {},
   "outputs": [
    {
     "name": "stderr",
     "output_type": "stream",
     "text": [
      "\u001b[0;36m   core.py:\u001b[0;35m 644\u001b[0;0m --- \u001b[1;36m\u001b[1;36m\u001b[1;36mINFO\u001b[1;0m\u001b[1;0m\u001b[1;0m: Running Module 0: <class 'gammaALPs.base.environs.MixICMCell'>\n"
     ]
    },
    {
     "name": "stdout",
     "output_type": "stream",
     "text": [
      "(1, 2000)\n"
     ]
    }
   ],
   "source": [
    "px, py, pa = ml_iaxo.run()\n",
    "print (pa.shape)"
   ]
  },
  {
   "cell_type": "code",
   "execution_count": 43,
   "metadata": {},
   "outputs": [
    {
     "name": "stdout",
     "output_type": "stream",
     "text": [
      "4.8948665553604714e-20\n"
     ]
    },
    {
     "data": {
      "image/png": "[encoded data removed]",
      "text/plain": [
       "<Figure size 432x288 with 1 Axes>"
      ]
     },
     "metadata": {
      "needs_background": "light"
     },
     "output_type": "display_data"
    }
   ],
   "source": [
    "plt.semilogx(EGeV * u.GeV.to('eV'), (pa)[0], lw=2)\n",
    "\n",
    "# the critical energy, onset of strong mixing regime\n",
    "plt.axvline(EminGeV(m_neV=ml_iaxo.alp.m,\n",
    "                    g11=ml_iaxo.alp.g,\n",
    "                    BmuG=ml_iaxo.modules[0].B,\n",
    "                    n_cm3=ml_iaxo.modules[0].nel) * u.GeV.to('eV'),\n",
    "            lw=1., ls='--', color='k')\n",
    "\n",
    "# maximum energy, end of strong mixing regime\n",
    "plt.axvline(EmaxGeV(g11=ml_iaxo.alp.g, BmuG=ml_iaxo.modules[0].B) * u.GeV.to('eV'),\n",
    "            lw=1., ls='-.', color='k')\n",
    "\n",
    "\n",
    "plt.xlabel(\"Energy (eV)\")\n",
    "plt.ylabel(\"$P_{a\\gamma}$\")\n",
    "\n",
    "print(pa[0].max())"
   ]
  },
  {
   "cell_type": "code",
   "execution_count": 44,
   "metadata": {},
   "outputs": [
    {
     "name": "stdout",
     "output_type": "stream",
     "text": [
      "1.24e-05 cm2\n"
     ]
    }
   ],
   "source": [
    "print(\"{0:.2e}\".format(f_integral * A.to(\"cm^2\") * pa[0].max()))"
   ]
  },
  {
   "cell_type": "code",
   "execution_count": 45,
   "metadata": {},
   "outputs": [],
   "source": [
    "## Baby IAXO"
   ]
  },
  {
   "cell_type": "code",
   "execution_count": 46,
   "metadata": {},
   "outputs": [
    {
     "name": "stdout",
     "output_type": "stream",
     "text": [
      "20000000000.0 3.2407792894443655e-19 0.77 m2\n"
     ]
    }
   ],
   "source": [
    "B = 2. * u.T.to(\"1e-6 G\")\n",
    "L = 10 * u.m.to(\"kpc\")\n",
    "A = 0.77 * u.m**2.\n",
    "print(B, L, A)"
   ]
  },
  {
   "cell_type": "code",
   "execution_count": 47,
   "metadata": {},
   "outputs": [],
   "source": [
    "ml_baby_iaxo = ModuleList(alp, src, pin=pin, EGeV=EGeV, seed=0)"
   ]
  },
  {
   "cell_type": "code",
   "execution_count": 48,
   "metadata": {},
   "outputs": [
    {
     "name": "stderr",
     "output_type": "stream",
     "text": [
      "\u001b[0;36menvirons.py:\u001b[0;35m 257\u001b[0;0m --- \u001b[1;36m\u001b[1;36m\u001b[1;36m\u001b[1;36mINFO\u001b[1;0m\u001b[1;0m\u001b[1;0m\u001b[1;0m: Using inputted chi\n",
      "\u001b[0;36menvirons.py:\u001b[0;35m 270\u001b[0;0m --- \u001b[1;31m\u001b[1;31m\u001b[1;31m\u001b[1;31mWARNING\u001b[1;0m\u001b[1;0m\u001b[1;0m\u001b[1;0m: r_abell <= L0: assuming one domain from 0. to L0\n"
     ]
    }
   ],
   "source": [
    "ml_baby_iaxo.add_propagation(environ='ICMCell',\n",
    "                   order=0,   # order of the module\n",
    "                   B0=B,  # B field strength\n",
    "                   L0=L,  # cell size\n",
    "                   nsim=1,  # one single realization\n",
    "                   n0=1e-100,  # electron density\n",
    "                   r_abell=L * 1.1,  # full path, chosen that we only have a single cell\n",
    "                   beta=0., \n",
    "                   eta=0.\n",
    "                  )"
   ]
  },
  {
   "cell_type": "code",
   "execution_count": 49,
   "metadata": {},
   "outputs": [
    {
     "name": "stderr",
     "output_type": "stream",
     "text": [
      "\u001b[0;36m   core.py:\u001b[0;35m 644\u001b[0;0m --- \u001b[1;36m\u001b[1;36m\u001b[1;36m\u001b[1;36mINFO\u001b[1;0m\u001b[1;0m\u001b[1;0m\u001b[1;0m: Running Module 0: <class 'gammaALPs.base.environs.MixICMCell'>\n"
     ]
    },
    {
     "name": "stdout",
     "output_type": "stream",
     "text": [
      "(1, 2000)\n"
     ]
    }
   ],
   "source": [
    "px, py, pa = ml_baby_iaxo.run()\n",
    "print (pa.shape)"
   ]
  },
  {
   "cell_type": "code",
   "execution_count": 50,
   "metadata": {},
   "outputs": [
    {
     "name": "stdout",
     "output_type": "stream",
     "text": [
      "3.321822432225612e-20\n"
     ]
    },
    {
     "data": {
      "image/png": "[encoded data removed]",
      "text/plain": [
       "<Figure size 432x288 with 1 Axes>"
      ]
     },
     "metadata": {
      "needs_background": "light"
     },
     "output_type": "display_data"
    }
   ],
   "source": [
    "plt.semilogx(EGeV * u.GeV.to('eV'), (pa)[0], lw=2)\n",
    "\n",
    "# the critical energy, onset of strong mixing regime\n",
    "plt.axvline(EminGeV(m_neV=ml_iaxo.alp.m,\n",
    "                    g11=ml_iaxo.alp.g,\n",
    "                    BmuG=ml_iaxo.modules[0].B,\n",
    "                    n_cm3=ml_iaxo.modules[0].nel) * u.GeV.to('eV'),\n",
    "            lw=1., ls='--', color='k')\n",
    "\n",
    "# maximum energy, end of strong mixing regime\n",
    "plt.axvline(EmaxGeV(g11=ml_iaxo.alp.g, BmuG=ml_iaxo.modules[0].B) * u.GeV.to('eV'),\n",
    "            lw=1., ls='-.', color='k')\n",
    "\n",
    "\n",
    "plt.xlabel(\"Energy (eV)\")\n",
    "plt.ylabel(\"$P_{a\\gamma}$\")\n",
    "\n",
    "print(pa[0].max())"
   ]
  },
  {
   "cell_type": "code",
   "execution_count": 51,
   "metadata": {},
   "outputs": [
    {
     "name": "stdout",
     "output_type": "stream",
     "text": [
      "2.87e-06 cm2\n"
     ]
    }
   ],
   "source": [
    "print(\"{0:.2e}\".format(f_integral * A.to(\"cm^2\") * pa[0].max()))"
   ]
  },
  {
   "cell_type": "markdown",
   "metadata": {},
   "source": [
    "### Conversion from SN photons in galaxy"
   ]
  },
  {
   "cell_type": "code",
   "execution_count": 52,
   "metadata": {},
   "outputs": [],
   "source": [
    "from alpsnlc.calc_alp_signal import ALPSNSignal"
   ]
  },
  {
   "cell_type": "code",
   "execution_count": 53,
   "metadata": {},
   "outputs": [],
   "source": [
    "snalp = ALPSNSignal(Mprog=18.)"
   ]
  },
  {
   "cell_type": "code",
   "execution_count": 54,
   "metadata": {},
   "outputs": [],
   "source": [
    "EMeV = np.logspace(-3, 3, 100)\n",
    "EGeV = EMeV * u.MeV.to(\"GeV\")\n",
    "t = np.linspace(0.,20.,101)\n",
    "ee, tt = np.meshgrid(EMeV, t, indexing='ij')"
   ]
  },
  {
   "cell_type": "code",
   "execution_count": 55,
   "metadata": {},
   "outputs": [
    {
     "data": {
      "text/plain": [
       "(100, 101)"
      ]
     },
     "execution_count": 55,
     "metadata": {},
     "output_type": "execute_result"
    }
   ],
   "source": [
    "# ALP flux in 10^52/MeV/s\n",
    "dnde = snalp(g10=0.2, EMeV=EMeV, ts=t)\n",
    "dnde.shape"
   ]
  },
  {
   "cell_type": "code",
   "execution_count": 56,
   "metadata": {},
   "outputs": [],
   "source": [
    "# integrate over energy and average over time\n",
    "# to get average rate\n",
    "n_avg = simps(simps(dnde * ee, np.log(ee), axis=0), t) / (t.max() - t.min()) * 1e52"
   ]
  },
  {
   "cell_type": "code",
   "execution_count": 57,
   "metadata": {},
   "outputs": [],
   "source": [
    "# divide by luminosity distance\n",
    "dL = 10. * u.kpc"
   ]
  },
  {
   "cell_type": "code",
   "execution_count": 58,
   "metadata": {},
   "outputs": [
    {
     "name": "stdout",
     "output_type": "stream",
     "text": [
      "8.912008e+04 1 / cm2 s\n"
     ]
    }
   ],
   "source": [
    "print(\"{0:e} s\".format(n_avg / (4. * np.pi * dL.to('cm') ** 2.)))"
   ]
  },
  {
   "cell_type": "markdown",
   "metadata": {},
   "source": [
    "conversion in GMF"
   ]
  },
  {
   "cell_type": "code",
   "execution_count": 59,
   "metadata": {},
   "outputs": [],
   "source": [
    "pa_in = np.diag([0., 0., 1.])\n",
    "px_in = np.diag([1., 0., 0.])\n",
    "py_in = np.diag([0., 1., 0.])"
   ]
  },
  {
   "cell_type": "code",
   "execution_count": 60,
   "metadata": {},
   "outputs": [
    {
     "name": "stderr",
     "output_type": "stream",
     "text": [
      "\u001b[0;36menvirons.py:\u001b[0;35m1039\u001b[0;0m --- \u001b[1;36m\u001b[1;36m\u001b[1;36m\u001b[1;36m\u001b[1;36mINFO\u001b[1;0m\u001b[1;0m\u001b[1;0m\u001b[1;0m\u001b[1;0m: Using inputted chi\n"
     ]
    }
   ],
   "source": [
    "src = Source(z=0.0, l=0., b=0.)  # galactic center\n",
    "\n",
    "\n",
    "ml = ModuleList(ALP(m=0.01, g=2.),\n",
    "                src, \n",
    "                pin=pa_in,\n",
    "                EGeV=EGeV, seed=0)\n",
    "\n",
    "# add the GMF propagation module\n",
    "ml.add_propagation(\"GMF\", 0, model='jansson12', galactic=10.)"
   ]
  },
  {
   "cell_type": "code",
   "execution_count": 61,
   "metadata": {},
   "outputs": [
    {
     "name": "stderr",
     "output_type": "stream",
     "text": [
      "\u001b[0;36m   core.py:\u001b[0;35m 644\u001b[0;0m --- \u001b[1;36m\u001b[1;36m\u001b[1;36m\u001b[1;36m\u001b[1;36mINFO\u001b[1;0m\u001b[1;0m\u001b[1;0m\u001b[1;0m\u001b[1;0m: Running Module 0: <class 'gammaALPs.base.environs.MixGMF'>\n"
     ]
    }
   ],
   "source": [
    "px, py, pa = ml.run()"
   ]
  },
  {
   "cell_type": "code",
   "execution_count": 62,
   "metadata": {},
   "outputs": [],
   "source": [
    "prx = ml.modules[\"GMF\"].show_conv_prob_vs_r(pa_in, px_in)\n",
    "pry = ml.modules[\"GMF\"].show_conv_prob_vs_r(pa_in, py_in)\n",
    "pra = ml.modules[\"GMF\"].show_conv_prob_vs_r(pa_in, pa_in)"
   ]
  },
  {
   "cell_type": "code",
   "execution_count": 63,
   "metadata": {},
   "outputs": [
    {
     "name": "stdout",
     "output_type": "stream",
     "text": [
      "0.09650757322312344\n"
     ]
    },
    {
     "data": {
      "image/png": "[encoded data removed]",
      "text/plain": [
       "<Figure size 432x288 with 1 Axes>"
      ]
     },
     "metadata": {
      "needs_background": "light"
     },
     "output_type": "display_data"
    }
   ],
   "source": [
    "plt.loglog(EMeV, (px + py)[0])\n",
    "print ((px + py).max())"
   ]
  },
  {
   "cell_type": "code",
   "execution_count": 64,
   "metadata": {},
   "outputs": [
    {
     "name": "stdout",
     "output_type": "stream",
     "text": [
      "1.3195165872804324\n"
     ]
    },
    {
     "data": {
      "image/png": "[encoded data removed]",
      "text/plain": [
       "<Figure size 432x288 with 1 Axes>"
      ]
     },
     "metadata": {
      "needs_background": "light"
     },
     "output_type": "display_data"
    }
   ],
   "source": [
    "plt.plot(ml.modules[\"GMF\"].r, ml.modules[\"GMF\"].B)\n",
    "\n",
    "# average B transversal along line of sight\n",
    "B_avg = simps(ml.modules[\"GMF\"].B, ml.modules[\"GMF\"].r[::-1]) / \\\n",
    "    (ml.modules[\"GMF\"].r.max() - ml.modules[\"GMF\"].r.min())\n",
    "print(B_avg)"
   ]
  },
  {
   "cell_type": "code",
   "execution_count": 65,
   "metadata": {},
   "outputs": [],
   "source": [
    "A = 0.5 * u.m**2"
   ]
  },
  {
   "cell_type": "code",
   "execution_count": 66,
   "metadata": {},
   "outputs": [
    {
     "data": {
      "text/plain": [
       "'4.300381e+07 / s'"
      ]
     },
     "execution_count": 66,
     "metadata": {},
     "output_type": "execute_result"
    }
   ],
   "source": [
    "\"{0:e} / s\".format(n_avg / (4. * np.pi * dL.to('cm') ** 2.) * (px + py).max() * A.to(\"cm^2\"))"
   ]
  },
  {
   "cell_type": "code",
   "execution_count": 67,
   "metadata": {},
   "outputs": [
    {
     "data": {
      "text/plain": [
       "'8.912008e+04 1 / cm2 / s'"
      ]
     },
     "execution_count": 67,
     "metadata": {},
     "output_type": "execute_result"
    }
   ],
   "source": [
    "\"{0:e} / s\".format(n_avg / (4. * np.pi * dL.to('cm') ** 2.))"
   ]
  },
  {
   "cell_type": "code",
   "execution_count": null,
   "metadata": {},
   "outputs": [],
   "source": []
  }
 ],
 "metadata": {
  "kernelspec": {
   "display_name": "Python [conda env:gammaALPs]",
   "language": "python",
   "name": "conda-env-gammaALPs-py"
  },
  "language_info": {
   "codemirror_mode": {
    "name": "ipython",
    "version": 3
   },
   "file_extension": ".py",
   "mimetype": "text/x-python",
   "name": "python",
   "nbconvert_exporter": "python",
   "pygments_lexer": "ipython3",
   "version": "3.8.5"
  }
 },
 "nbformat": 4,
 "nbformat_minor": 2
}
