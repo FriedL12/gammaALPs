{
 "cells": [
  {
   "cell_type": "markdown",
   "metadata": {},
   "source": [
    "# Example to calculate photon-ALP oscillations from PKS 2155-304 including the intergalactic magnetic field"
   ]
  },
  {
   "cell_type": "markdown",
   "metadata": {},
   "source": [
    "This notebook demonstrates how to calculate the photon-ALP transition probability for PKS 2155-304 taking into account the intergalactic mangetic field (IGMF) and the magnetic field of the Milky Way. The IGMF is modelled with a cell-like structure: in each cell the field strength is constant but the orientation changes randomly from one cell to the next."
   ]
  },
  {
   "cell_type": "code",
   "execution_count": 1,
   "metadata": {
    "collapsed": true
   },
   "outputs": [],
   "source": [
    "from gammaALPs import Source, ALP, ModuleList\n",
    "from gammaALPs.base import environs, transfer\n",
    "import numpy as np\n",
    "import matplotlib.pyplot as plt\n",
    "from ebltable.tau_from_model import OptDepth\n",
    "from astropy import constants as c\n",
    "from myplot.funcs import *"
   ]
  },
  {
   "cell_type": "code",
   "execution_count": 2,
   "metadata": {
    "collapsed": true
   },
   "outputs": [],
   "source": [
    "%matplotlib inline"
   ]
  },
  {
   "cell_type": "markdown",
   "metadata": {},
   "source": [
    "### Set the ALP"
   ]
  },
  {
   "cell_type": "markdown",
   "metadata": {},
   "source": [
    "Initialize an ALP object, that stores the ALP mass $m$ (in neV) and the coupling $g$ (in $10^{-11}\\mathrm{GeV}^{-1}$)."
   ]
  },
  {
   "cell_type": "code",
   "execution_count": 3,
   "metadata": {
    "collapsed": true
   },
   "outputs": [],
   "source": [
    "m, g = 0.1,1.\n",
    "alp = ALP(m,g)"
   ]
  },
  {
   "cell_type": "markdown",
   "metadata": {},
   "source": [
    "## Set the source"
   ]
  },
  {
   "cell_type": "markdown",
   "metadata": {},
   "source": [
    "Set the source properties (redshift and sky coordinates) in the ```Source``` containier"
   ]
  },
  {
   "cell_type": "code",
   "execution_count": 4,
   "metadata": {},
   "outputs": [
    {
     "name": "stdout",
     "output_type": "stream",
     "text": [
      "0.116\n",
      "-52.2456161104 -30.2255555556\n",
      "17.730509236 -52.2456161104\n"
     ]
    }
   ],
   "source": [
    "pks2155 = Source(z =  0.116, ra = '21h58m52.0s', dec = '-30d13m32s')\n",
    "print pks2155.z\n",
    "print pks2155.ra, pks2155.dec\n",
    "print pks2155.l, pks2155.b"
   ]
  },
  {
   "cell_type": "markdown",
   "metadata": {},
   "source": [
    "### Init the module list"
   ]
  },
  {
   "cell_type": "markdown",
   "metadata": {},
   "source": [
    "Initialize the list of transfer modules that will store the different magnetic field environments. "
   ]
  },
  {
   "cell_type": "markdown",
   "metadata": {},
   "source": [
    "Energies are supplied in GeV as ```numpy.ndarray```"
   ]
  },
  {
   "cell_type": "code",
   "execution_count": 5,
   "metadata": {
    "collapsed": true
   },
   "outputs": [],
   "source": [
    "EGeV = np.logspace(1.,5.,200)"
   ]
  },
  {
   "cell_type": "markdown",
   "metadata": {},
   "source": [
    "Now initialize the initial photon polarization. Since we are dealing with a gamma-ray source, no ALPs are initially present in the beam (third diagonal element is zero). The polarization density matrix is normalized such that its trace is equal to one, $\\mathrm{Tr}(\\rho_\\mathrm{in}) = 1$."
   ]
  },
  {
   "cell_type": "code",
   "execution_count": 6,
   "metadata": {
    "collapsed": true
   },
   "outputs": [],
   "source": [
    "pin = np.diag((1.,1.,0.)) * 0.5"
   ]
  },
  {
   "cell_type": "code",
   "execution_count": 7,
   "metadata": {
    "collapsed": true
   },
   "outputs": [],
   "source": [
    "m = ModuleList(alp, pks2155, pin = pin, EGeV = EGeV, seed = 0)"
   ]
  },
  {
   "cell_type": "markdown",
   "metadata": {},
   "source": [
    "### Add modules:"
   ]
  },
  {
   "cell_type": "markdown",
   "metadata": {},
   "source": [
    "Now we add propagation modules for the IGMF, which includes EBL absorption, and the Galactic magnetic field."
   ]
  },
  {
   "cell_type": "code",
   "execution_count": 8,
   "metadata": {},
   "outputs": [
    {
     "name": "stderr",
     "output_type": "stream",
     "text": [
      "/Users/manuelmeyer/projects/python/ebltable/ebltable/tau_from_model.py:302: RuntimeWarning: Warning: a z value is below interpolation range, zmin = 0.01\n",
      "  RuntimeWarning)\n"
     ]
    }
   ],
   "source": [
    "m.add_propagation(\"IGMF\", \n",
    "                  0, # position of module counted from the source. \n",
    "                  nsim = 10, # number of random B-field realizations\n",
    "                  B0 = 1e-3,  # B field strength in micro Gauss at z = 0\n",
    "                  n0 = 1e-7,  # normalization of electron density in cm^-3 at z = 0\n",
    "                  L0 = 1e3, # coherence (cell) length in kpc at z = 0\n",
    "                  eblmodel = 'dominguez' # EBL model\n",
    "                  )\n",
    "m.add_propagation(\"GMF\",1, model = 'jansson12', model_sum = 'ASS') # finally, the beam enters the Milky Way Field"
   ]
  },
  {
   "cell_type": "markdown",
   "metadata": {},
   "source": [
    "We can also change the ALP parameters before running the modules:"
   ]
  },
  {
   "cell_type": "code",
   "execution_count": 9,
   "metadata": {
    "collapsed": true
   },
   "outputs": [],
   "source": [
    "m.alp.m = 0.01\n",
    "m.alp.g = 5."
   ]
  },
  {
   "cell_type": "markdown",
   "metadata": {},
   "source": [
    "### Run all modules"
   ]
  },
  {
   "cell_type": "markdown",
   "metadata": {},
   "source": [
    "Now we run the modules. If ```multiprocess``` key word is larger than two, this will be split onto multiple cores with python's ```multiprocess``` module."
   ]
  },
  {
   "cell_type": "markdown",
   "metadata": {},
   "source": [
    "The ```px,py,pa``` variables contain the mixing probability into the two photon polarization states (x,y) and into the axion state (a)."
   ]
  },
  {
   "cell_type": "code",
   "execution_count": 10,
   "metadata": {
    "collapsed": true,
    "scrolled": false
   },
   "outputs": [],
   "source": [
    "px,py,pa = m.run(multiprocess=2)"
   ]
  },
  {
   "cell_type": "markdown",
   "metadata": {},
   "source": [
    "## Plot the output "
   ]
  },
  {
   "cell_type": "markdown",
   "metadata": {},
   "source": [
    "Calculate the case for EBL absorption only as well for plotting:"
   ]
  },
  {
   "cell_type": "code",
   "execution_count": 11,
   "metadata": {
    "collapsed": true
   },
   "outputs": [],
   "source": [
    "tau = m.modules[0].t.opt_depth(m.source.z, m.EGeV / 1e3)"
   ]
  },
  {
   "cell_type": "code",
   "execution_count": 12,
   "metadata": {
    "scrolled": true
   },
   "outputs": [
    {
     "name": "stdout",
     "output_type": "stream",
     "text": [
      "(10, 200)\n",
      "4.81887132954e-05\n",
      "0.00011407017622\n"
     ]
    },
    {
     "data": {
      "image/png": "[encoded data removed]",
      "text/plain": [
       "<matplotlib.figure.Figure at 0x114f22e10>"
      ]
     },
     "metadata": {},
     "output_type": "display_data"
    }
   ],
   "source": [
    "pgg = px + py # the total photon survival probability\n",
    "\n",
    "print pgg.shape\n",
    "print np.min(np.median(pgg, axis = 0))\n",
    "print np.min(np.max(pgg, axis = 0))\n",
    "\n",
    "for i,p in enumerate(pgg): # plot all realizations\n",
    "    plt.semilogx(m.EGeV, p, label = 'One IGMF realazation' if not i else '')\n",
    "plt.semilogx(m.EGeV, np.exp(-tau), label = 'EBL absorption only',\n",
    "            color = 'k', ls = '--')\n",
    "\n",
    "plt.xlabel('Energy (GeV)')\n",
    "plt.ylabel('Photon survival probability')\n",
    "plt.legend(loc = 'center left', fontsize = 'medium')\n",
    "\n",
    "plt.annotate(r'$m_a = {0:.2f}\\,\\mathrm{{neV}}, g_{{a\\gamma}} = {1:.1f} \\times 10^{{-11}}\\,\\mathrm{{GeV}}^{{-1}}$'.format(m.alp.m,m.alp.g),\n",
    "             xy = (0.05,0.1), size = 'x-large', xycoords = 'axes fraction', ha = 'left',**effect)\n",
    "\n",
    "plt.gca().set_ylim(1e-5,2.)\n",
    "plt.gca().set_xscale('log')\n",
    "plt.gca().set_yscale('log')\n",
    "plt.subplots_adjust(left = 0.2)"
   ]
  },
  {
   "cell_type": "markdown",
   "metadata": {},
   "source": [
    "# Save results"
   ]
  },
  {
   "cell_type": "markdown",
   "metadata": {},
   "source": [
    "Save the results in an astropy table. "
   ]
  },
  {
   "cell_type": "code",
   "execution_count": 13,
   "metadata": {
    "collapsed": true
   },
   "outputs": [],
   "source": [
    "from astropy.table import Table"
   ]
  },
  {
   "cell_type": "code",
   "execution_count": 14,
   "metadata": {
    "collapsed": true
   },
   "outputs": [],
   "source": [
    "c = {}\n",
    "c['pgg'] = np.vstack((EGeV, pgg))\n",
    "t = Table(c)"
   ]
  },
  {
   "cell_type": "code",
   "execution_count": 15,
   "metadata": {
    "collapsed": true
   },
   "outputs": [],
   "source": [
    "t.write('pks2155_igmf.fits', overwrite = True)"
   ]
  },
  {
   "cell_type": "code",
   "execution_count": 16,
   "metadata": {
    "collapsed": true
   },
   "outputs": [],
   "source": [
    "t1 = Table.read('pks2155_igmf.fits')"
   ]
  },
  {
   "cell_type": "code",
   "execution_count": 17,
   "metadata": {},
   "outputs": [
    {
     "data": {
      "text/html": [
       "&lt;Table length=11&gt;\n",
       "<table id=\"table4638871184\" class=\"table-striped table-bordered table-condensed\">\n",
       "<thead><tr><th>pgg [200]</th></tr></thead>\n",
       "<thead><tr><th>float64</th></tr></thead>\n",
       "<tr><td>10.0 .. 100000.0</td></tr>\n",
       "<tr><td>0.885604785299 .. 3.70461406956e-05</td></tr>\n",
       "<tr><td>0.582343806141 .. 0.00011407017622</td></tr>\n",
       "<tr><td>0.839075207062 .. 3.90709935499e-05</td></tr>\n",
       "<tr><td>0.712271365269 .. 4.90395180168e-05</td></tr>\n",
       "<tr><td>0.97571014565 .. 2.32098426947e-05</td></tr>\n",
       "<tr><td>0.633893257642 .. 6.02048602636e-05</td></tr>\n",
       "<tr><td>0.962268493031 .. 5.47860511472e-05</td></tr>\n",
       "<tr><td>0.541466170948 .. 4.7337908574e-05</td></tr>\n",
       "<tr><td>0.743173566507 .. 3.52441614224e-05</td></tr>\n",
       "<tr><td>0.502761573433 .. 8.78023767396e-05</td></tr>\n",
       "</table>"
      ],
      "text/plain": [
       "<Table length=11>\n",
       "             pgg [200]             \n",
       "              float64              \n",
       "-----------------------------------\n",
       "                   10.0 .. 100000.0\n",
       "0.885604785299 .. 3.70461406956e-05\n",
       " 0.582343806141 .. 0.00011407017622\n",
       "0.839075207062 .. 3.90709935499e-05\n",
       "0.712271365269 .. 4.90395180168e-05\n",
       " 0.97571014565 .. 2.32098426947e-05\n",
       "0.633893257642 .. 6.02048602636e-05\n",
       "0.962268493031 .. 5.47860511472e-05\n",
       " 0.541466170948 .. 4.7337908574e-05\n",
       "0.743173566507 .. 3.52441614224e-05\n",
       "0.502761573433 .. 8.78023767396e-05"
      ]
     },
     "execution_count": 17,
     "metadata": {},
     "output_type": "execute_result"
    }
   ],
   "source": [
    "t1"
   ]
  }
 ],
 "metadata": {
  "kernelspec": {
   "display_name": "Python 2",
   "language": "python",
   "name": "python2"
  },
  "language_info": {
   "codemirror_mode": {
    "name": "ipython",
    "version": 2
   },
   "file_extension": ".py",
   "mimetype": "text/x-python",
   "name": "python",
   "nbconvert_exporter": "python",
   "pygments_lexer": "ipython2",
   "version": "2.7.13"
  }
 },
 "nbformat": 4,
 "nbformat_minor": 2
}
