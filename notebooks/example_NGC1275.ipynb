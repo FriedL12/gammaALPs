{
 "cells": [
  {
   "cell_type": "markdown",
   "metadata": {},
   "source": [
    "# Example to calculate photon-ALP oscillations from NGC 1275"
   ]
  },
  {
   "cell_type": "markdown",
   "metadata": {},
   "source": [
    "This notebook demonstrates how to calculate the photon-ALP transition probability for NGC 1275, the central AGN of the Perseus cluster. The assumed B-field environments are the same as in Ajello et al. (2016), http://inspirehep.net/record/1432667, and include the cluster field and the magnetic field of the Milky Way. "
   ]
  },
  {
   "cell_type": "code",
   "execution_count": 1,
   "metadata": {
    "collapsed": true
   },
   "outputs": [],
   "source": [
    "from gammaALPs import Source, ALP, ModuleList\n",
    "from gammaALPs.base import environs, transfer\n",
    "import numpy as np\n",
    "import matplotlib.pyplot as plt\n",
    "from ebltable.tau_from_model import OptDepth\n",
    "from astropy import constants as c\n",
    "from myplot.funcs import *"
   ]
  },
  {
   "cell_type": "code",
   "execution_count": 2,
   "metadata": {
    "collapsed": true
   },
   "outputs": [],
   "source": [
    "%matplotlib inline"
   ]
  },
  {
   "cell_type": "markdown",
   "metadata": {},
   "source": [
    "### Set the ALP"
   ]
  },
  {
   "cell_type": "markdown",
   "metadata": {},
   "source": [
    "Initialize an ALP object, that stores the ALP mass $m$ (in neV) and the coupling $g$ (in $10^{-11}\\mathrm{GeV}^{-1}$)."
   ]
  },
  {
   "cell_type": "code",
   "execution_count": 3,
   "metadata": {
    "collapsed": true
   },
   "outputs": [],
   "source": [
    "m, g = 1.,1.\n",
    "alp = ALP(m,g)"
   ]
  },
  {
   "cell_type": "markdown",
   "metadata": {},
   "source": [
    "## Set the source"
   ]
  },
  {
   "cell_type": "markdown",
   "metadata": {},
   "source": [
    "Set the source properties (redshift and sky coordinates) in the ```Source``` containier"
   ]
  },
  {
   "cell_type": "code",
   "execution_count": 4,
   "metadata": {},
   "outputs": [
    {
     "name": "stdout",
     "output_type": "stream",
     "text": [
      "0.017559\n",
      "-13.2613435443 41.5116666667\n",
      "150.575674321 -13.2613435443\n"
     ]
    },
    {
     "name": "stderr",
     "output_type": "stream",
     "text": [
      "WARNING: Couldn't write lextab module u'angle_lextab'. [Errno 13] Permission denied: u'/Library/Python/2.7/site-packages/astropy/coordinates/angle_lextab.py'\n",
      "WARNING: Couldn't create u'angle_parsetab'. [Errno 13] Permission denied: u'/Library/Python/2.7/site-packages/astropy/coordinates/angle_parsetab.py'\n"
     ]
    }
   ],
   "source": [
    "ngc1275 = Source(z = 0.017559, ra = '03h19m48.1s', dec = '+41d30m42s')\n",
    "print ngc1275.z\n",
    "print ngc1275.ra, ngc1275.dec\n",
    "print ngc1275.l, ngc1275.b"
   ]
  },
  {
   "cell_type": "markdown",
   "metadata": {},
   "source": [
    "### Init the module list"
   ]
  },
  {
   "cell_type": "markdown",
   "metadata": {},
   "source": [
    "Initialize the list of transfer modules that will store the different magnetic field environments. "
   ]
  },
  {
   "cell_type": "markdown",
   "metadata": {},
   "source": [
    "Energies are supplied in GeV as ```numpy.ndarray```"
   ]
  },
  {
   "cell_type": "code",
   "execution_count": 5,
   "metadata": {
    "collapsed": true
   },
   "outputs": [],
   "source": [
    "EGeV = np.logspace(1.,5.,200)"
   ]
  },
  {
   "cell_type": "markdown",
   "metadata": {},
   "source": [
    "Now initialize the initial photon polarization. Since we are dealing with a gamma-ray source, no ALPs are initially present in the beam (third diagonal element is zero). The polarization density matrix is normalized such that its trace is equal to one, $\\mathrm{Tr}(\\rho_\\mathrm{in}) = 1$."
   ]
  },
  {
   "cell_type": "code",
   "execution_count": 6,
   "metadata": {
    "collapsed": true
   },
   "outputs": [],
   "source": [
    "pin = np.diag((1.,1.,0.)) * 0.5"
   ]
  },
  {
   "cell_type": "code",
   "execution_count": 7,
   "metadata": {
    "collapsed": true
   },
   "outputs": [],
   "source": [
    "m = ModuleList(alp, ngc1275, pin = pin, EGeV = EGeV)"
   ]
  },
  {
   "cell_type": "markdown",
   "metadata": {},
   "source": [
    "### Add modules:"
   ]
  },
  {
   "cell_type": "markdown",
   "metadata": {},
   "source": [
    "Now we add propagation modules for the cluster, the EBL, and the Galactic magnetic field."
   ]
  },
  {
   "cell_type": "code",
   "execution_count": 8,
   "metadata": {
    "collapsed": true
   },
   "outputs": [],
   "source": [
    "m.add_propagation(\"ICMGaussTurb\", \n",
    "                  0, # position of module counted from the source. \n",
    "                  nsim = 10, # number of random B-field realizations\n",
    "                  B0 = 10.,  # rms of B field\n",
    "                  n0 = 39.,  # normalization of electron density\n",
    "                  n2 = 4.05, # second normalization of electron density, see Churazov et al. 2003, Eq. 4\n",
    "                  r_abell = 500., # extension of the cluster\n",
    "                  r_core = 80.,   # electron density parameter, see Churazov et al. 2003, Eq. 4\n",
    "                  r_core2 = 280., # electron density parameter, see Churazov et al. 2003, Eq. 4\n",
    "                  beta = 1.2,  # electron density parameter, see Churazov et al. 2003, Eq. 4\n",
    "                  beta2= 0.58, # electron density parameter, see Churazov et al. 2003, Eq. 4\n",
    "                  eta = 0.5, # scaling of B-field with electron denstiy\n",
    "                  kL = 0.18, # maximum turbulence scale in kpc^-1, taken from A2199 cool-core cluster, see Vacca et al. 2012 \n",
    "                  kH = 9.,  # minimum turbulence scale, taken from A2199 cool-core cluster, see Vacca et al. 2012\n",
    "                  q = -2.80 # turbulence spectral index, taken from A2199 cool-core cluster, see Vacca et al. 2012\n",
    "                 )\n",
    "m.add_propagation(\"EBL\",1, model = 'dominguez') # EBL attenuation comes second, after beam has left cluster\n",
    "m.add_propagation(\"GMF\",2, model = 'jansson12', model_sum = 'ASS') # finally, the beam enters the Milky Way Field"
   ]
  },
  {
   "cell_type": "markdown",
   "metadata": {},
   "source": [
    "We can also change the ALP parameters before running the modules:"
   ]
  },
  {
   "cell_type": "code",
   "execution_count": 9,
   "metadata": {
    "collapsed": true
   },
   "outputs": [],
   "source": [
    "m.alp.m = 50.\n",
    "m.alp.g = 0.5"
   ]
  },
  {
   "cell_type": "markdown",
   "metadata": {},
   "source": [
    "### Run all modules"
   ]
  },
  {
   "cell_type": "markdown",
   "metadata": {},
   "source": [
    "Now we run the modules. If ```multiprocess``` key word is larger than two, this will be split onto multiple cores with python's ```multiprocess``` module."
   ]
  },
  {
   "cell_type": "markdown",
   "metadata": {},
   "source": [
    "The ```px,py,pa``` variables contain the mixing probability into the two photon polarization states (x,y) and into the axion state (a)."
   ]
  },
  {
   "cell_type": "code",
   "execution_count": 10,
   "metadata": {
    "scrolled": false
   },
   "outputs": [
    {
     "name": "stderr",
     "output_type": "stream",
     "text": [
      "WARNING:root:Not all values of linear polarization are real values!\n",
      "WARNING:root:Not all values of circular polarization are real values!\n",
      "WARNING:root:Not all values of linear polarization are real values!\n",
      "WARNING:root:Not all values of circular polarization are real values!\n",
      "WARNING:root:Not all values of linear polarization are real values!\n",
      "WARNING:root:Not all values of circular polarization are real values!\n",
      "WARNING:root:Not all values of linear polarization are real values!\n",
      "WARNING:root:Not all values of circular polarization are real values!\n",
      "WARNING:root:Not all values of linear polarization are real values!\n",
      "WARNING:root:Not all values of circular polarization are real values!\n",
      "WARNING:root:Not all values of linear polarization are real values!\n",
      "WARNING:root:Not all values of circular polarization are real values!\n",
      "WARNING:root:Not all values of linear polarization are real values!\n",
      "WARNING:root:Not all values of circular polarization are real values!\n",
      "WARNING:root:Not all values of linear polarization are real values!\n",
      "WARNING:root:Not all values of circular polarization are real values!\n",
      "WARNING:root:Not all values of linear polarization are real values!\n",
      "WARNING:root:Not all values of circular polarization are real values!\n",
      "WARNING:root:Not all values of linear polarization are real values!\n",
      "WARNING:root:Not all values of circular polarization are real values!\n"
     ]
    }
   ],
   "source": [
    "px,py,pa = m.run(multiprocess=2)"
   ]
  },
  {
   "cell_type": "markdown",
   "metadata": {},
   "source": [
    "## Plot the output "
   ]
  },
  {
   "cell_type": "code",
   "execution_count": 20,
   "metadata": {
    "scrolled": true
   },
   "outputs": [
    {
     "name": "stdout",
     "output_type": "stream",
     "text": [
      "(10, 200)\n",
      "0.00105948398812\n",
      "0.00195688165622\n"
     ]
    },
    {
     "data": {
      "image/png": "[encoded data removed]",
      "text/plain": [
       "<matplotlib.figure.Figure at 0x111370d90>"
      ]
     },
     "metadata": {},
     "output_type": "display_data"
    }
   ],
   "source": [
    "pgg = px + py # the total photon survival probability\n",
    "\n",
    "print pgg.shape\n",
    "print np.min(np.median(pgg, axis = 0))\n",
    "print np.min(np.max(pgg, axis = 0))\n",
    "\n",
    "for p in pgg: # plot all realizations\n",
    "    plt.semilogx(m.EGeV, p)\n",
    "\n",
    "plt.xlabel('Energy (GeV)')\n",
    "plt.ylabel('Photon survival probability')\n",
    "plt.legend(loc = 0, fontsize = 'medium')\n",
    "\n",
    "plt.annotate(r'$m_a = {0:.1f}\\,\\mathrm{{neV}}, g_{{a\\gamma}} = {1:.1f} \\times 10^{{-11}}\\,\\mathrm{{GeV}}^{{-1}}$'.format(m.alp.m,m.alp.g),\n",
    "             xy = (0.95,0.1), size = 'x-large', xycoords = 'axes fraction', ha = 'right',**effect)\n",
    "\n",
    "plt.gca().set_xscale('log')\n",
    "plt.gca().set_yscale('log')\n",
    "plt.subplots_adjust(left = 0.2)"
   ]
  },
  {
   "cell_type": "markdown",
   "metadata": {},
   "source": [
    "# Save results"
   ]
  },
  {
   "cell_type": "markdown",
   "metadata": {},
   "source": [
    "Save the results in an astropy table. "
   ]
  },
  {
   "cell_type": "code",
   "execution_count": 12,
   "metadata": {
    "collapsed": true
   },
   "outputs": [],
   "source": [
    "from astropy.table import Table"
   ]
  },
  {
   "cell_type": "code",
   "execution_count": 26,
   "metadata": {
    "collapsed": true
   },
   "outputs": [],
   "source": [
    "c = {}\n",
    "c['pgg'] = np.vstack((EGeV, pgg))\n",
    "t = Table(c)"
   ]
  },
  {
   "cell_type": "code",
   "execution_count": 27,
   "metadata": {
    "collapsed": true
   },
   "outputs": [],
   "source": [
    "t.write('ngc1275.fits', overwrite = True)"
   ]
  },
  {
   "cell_type": "code",
   "execution_count": 28,
   "metadata": {
    "collapsed": true
   },
   "outputs": [],
   "source": [
    "t1 = Table.read('ngc1275.fits')"
   ]
  },
  {
   "cell_type": "code",
   "execution_count": 29,
   "metadata": {},
   "outputs": [
    {
     "data": {
      "text/html": [
       "&lt;Table length=11&gt;\n",
       "<table id=\"table4845597264\" class=\"table-striped table-bordered table-condensed\">\n",
       "<thead><tr><th>pgg [200]</th></tr></thead>\n",
       "<thead><tr><th>float64</th></tr></thead>\n",
       "<tr><td>10.0 .. 100000.0</td></tr>\n",
       "<tr><td>0.999994276333 .. 0.000995460713466</td></tr>\n",
       "<tr><td>0.999998066282 .. 0.00140765250317</td></tr>\n",
       "<tr><td>0.999999506494 .. 0.00117846054873</td></tr>\n",
       "<tr><td>0.999993558293 .. 0.000415746924837</td></tr>\n",
       "<tr><td>0.999992702587 .. 0.000606051955945</td></tr>\n",
       "<tr><td>0.999999661097 .. 0.000969089766071</td></tr>\n",
       "<tr><td>1.00000027627 .. 0.00197590901733</td></tr>\n",
       "<tr><td>0.999997259008 .. 0.00208775558636</td></tr>\n",
       "<tr><td>0.999997667123 .. 0.0011421236443</td></tr>\n",
       "<tr><td>1.00000086576 .. 0.000176910632931</td></tr>\n",
       "</table>"
      ],
      "text/plain": [
       "<Table length=11>\n",
       "             pgg [200]             \n",
       "              float64              \n",
       "-----------------------------------\n",
       "                   10.0 .. 100000.0\n",
       "0.999994276333 .. 0.000995460713466\n",
       " 0.999998066282 .. 0.00140765250317\n",
       " 0.999999506494 .. 0.00117846054873\n",
       "0.999993558293 .. 0.000415746924837\n",
       "0.999992702587 .. 0.000606051955945\n",
       "0.999999661097 .. 0.000969089766071\n",
       "  1.00000027627 .. 0.00197590901733\n",
       " 0.999997259008 .. 0.00208775558636\n",
       "  0.999997667123 .. 0.0011421236443\n",
       " 1.00000086576 .. 0.000176910632931"
      ]
     },
     "execution_count": 29,
     "metadata": {},
     "output_type": "execute_result"
    }
   ],
   "source": [
    "t1"
   ]
  },
  {
   "cell_type": "markdown",
   "metadata": {},
   "source": [
    "### Plot the magnetic field of the cluster, stored in module 0"
   ]
  },
  {
   "cell_type": "code",
   "execution_count": 17,
   "metadata": {},
   "outputs": [
    {
     "data": {
      "text/plain": [
       "<matplotlib.text.Text at 0x120f93050>"
      ]
     },
     "execution_count": 17,
     "metadata": {},
     "output_type": "execute_result"
    },
    {
     "data": {
      "image/png": "[encoded data removed]",
      "text/plain": [
       "<matplotlib.figure.Figure at 0x120edaf50>"
      ]
     },
     "metadata": {},
     "output_type": "display_data"
    }
   ],
   "source": [
    "plt.plot(m.modules[0]._r,m.modules[0]._B * np.sin(m.modules[0].psi),\n",
    "         lw = 1)\n",
    "plt.plot(m.modules[0]._r,m.modules[0]._B * np.cos(m.modules[0].psi),\n",
    "         lw = 1) \n",
    "plt.ylabel('$B$ field ($\\mu$G)')\n",
    "plt.xlabel('$r$ (kpc)')"
   ]
  },
  {
   "cell_type": "markdown",
   "metadata": {},
   "source": [
    "And plot the electron density:"
   ]
  },
  {
   "cell_type": "code",
   "execution_count": 18,
   "metadata": {},
   "outputs": [
    {
     "data": {
      "text/plain": [
       "<matplotlib.text.Text at 0x120fcbc50>"
      ]
     },
     "execution_count": 18,
     "metadata": {},
     "output_type": "execute_result"
    },
    {
     "data": {
      "image/png": "[encoded data removed]",
      "text/plain": [
       "<matplotlib.figure.Figure at 0x120ec5e50>"
      ]
     },
     "metadata": {},
     "output_type": "display_data"
    }
   ],
   "source": [
    "plt.loglog(m.modules[0]._r,m.modules[0]._nel * 1e-3)\n",
    "plt.ylabel('$n_\\mathrm{el}$ (cm$^{-3}$)')\n",
    "plt.xlabel('$r$ (kpc)')"
   ]
  },
  {
   "cell_type": "markdown",
   "metadata": {},
   "source": [
    "### Plot the magnetic field of the Milky Way, stored in module 2"
   ]
  },
  {
   "cell_type": "code",
   "execution_count": 19,
   "metadata": {},
   "outputs": [
    {
     "data": {
      "text/plain": [
       "<matplotlib.text.Text at 0x1212e4350>"
      ]
     },
     "execution_count": 19,
     "metadata": {},
     "output_type": "execute_result"
    },
    {
     "data": {
      "image/png": "[encoded data removed]",
      "text/plain": [
       "<matplotlib.figure.Figure at 0x131691590>"
      ]
     },
     "metadata": {},
     "output_type": "display_data"
    }
   ],
   "source": [
    "plt.plot(m.modules[2]._r,m.modules[2]._B * np.sin(m.modules[2].psi),\n",
    "         lw = 1)\n",
    "plt.plot(m.modules[2]._r,m.modules[2]._B * np.cos(m.modules[2].psi),\n",
    "         lw = 1) \n",
    "plt.ylabel('$B$ field ($\\mu$G)')\n",
    "plt.xlabel('$r$ (kpc)')"
   ]
  }
 ],
 "metadata": {
  "kernelspec": {
   "display_name": "Python 2",
   "language": "python",
   "name": "python2"
  },
  "language_info": {
   "codemirror_mode": {
    "name": "ipython",
    "version": 2
   },
   "file_extension": ".py",
   "mimetype": "text/x-python",
   "name": "python",
   "nbconvert_exporter": "python",
   "pygments_lexer": "ipython2",
   "version": "2.7.10"
  }
 },
 "nbformat": 4,
 "nbformat_minor": 2
}
