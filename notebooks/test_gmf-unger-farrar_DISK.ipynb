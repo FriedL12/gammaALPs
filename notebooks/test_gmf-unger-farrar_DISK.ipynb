{
 "cells": [
  {
   "cell_type": "markdown",
   "id": "66fd5ad6",
   "metadata": {},
   "source": [
    "# Notebook to implement and test the disk field of UF23 Model"
   ]
  },
  {
   "cell_type": "code",
   "execution_count": 1,
   "id": "0776dd66-346a-4894-9089-6d20c2b239b0",
   "metadata": {},
   "outputs": [],
   "source": [
    "import numpy as np\n",
    "import math\n",
    "import matplotlib.pyplot as plt\n",
    "from matplotlib.colors import LinearSegmentedColormap"
   ]
  },
  {
   "cell_type": "markdown",
   "id": "171d46c3",
   "metadata": {},
   "source": [
    "### General Constants"
   ]
  },
  {
   "cell_type": "code",
   "execution_count": 2,
   "id": "c254fbb1-c4a4-4c62-9ec3-2c068b5cf1be",
   "metadata": {},
   "outputs": [],
   "source": [
    "kPi = math.pi\n",
    "kTwoPi = 2 * kPi\n",
    "degree = kPi / 180.\n",
    "kpc = 1\n",
    "microgauss = 1\n",
    "megayear = 1\n",
    "Gpc = 1e6 * kpc\n",
    "pc = 1e-3 * kpc\n",
    "second = megayear / (1e6 * 60 * 60 * 24 * 365.25)\n",
    "kilometer = kpc / 3.0856775807e+16"
   ]
  },
  {
   "cell_type": "markdown",
   "id": "e5c4a976",
   "metadata": {},
   "source": [
    "Parameters for neCl Model:"
   ]
  },
  {
   "cell_type": "code",
   "execution_count": 3,
   "id": "5aca80e1",
   "metadata": {},
   "outputs": [],
   "source": [
    "fDiskB1        =  1.4259645e+00 * microgauss\n",
    "fDiskB2        =  1.3543223e+00 * microgauss\n",
    "fDiskB3        =  3.4390669e+00 * microgauss\n",
    "fDiskH         =  6.7405199e-01 * kpc\n",
    "fDiskPhase1    =  1.9961898e+02 * degree\n",
    "fDiskPhase2    =  1.3541461e+02 * degree\n",
    "fDiskPhase3    =  6.4909767e+01 * degree\n",
    "fDiskPitch     =  1.1867859e+01 * degree\n",
    "fDiskW         =  6.1162799e-02 * kpc\n",
    "fPoloidalB     =  9.8387831e-01 * microgauss\n",
    "fPoloidalP     =  1.6773615e+00 * kpc\n",
    "fPoloidalR     =  7.4084361e+00 * kpc\n",
    "fPoloidalW     =  1.4168192e-01 * kpc\n",
    "fPoloidalZ     =  3.6521188e+00 * kpc\n",
    "fStriation     =  3.3600213e-01\n",
    "fToroidalBN    =  2.6256593e+00 * microgauss\n",
    "fToroidalBS    = -2.5699466e+00 * microgauss\n",
    "fToroidalR     =  1.0134257e+01 * kpc\n",
    "fToroidalW     =  1.1547728e+00 * kpc\n",
    "fToroidalZ     =  4.5585463e+00 * kpc\n",
    "\n",
    "    \n",
    "fSinPitch = np.sin(fDiskPitch)\n",
    "fCosPitch = np.cos(fDiskPitch)\n",
    "fTanPitch = np.tan(fDiskPitch)"
   ]
  },
  {
   "cell_type": "markdown",
   "id": "55d35965",
   "metadata": {},
   "source": [
    "## General functions"
   ]
  },
  {
   "cell_type": "code",
   "execution_count": 4,
   "id": "601f098a",
   "metadata": {},
   "outputs": [],
   "source": [
    "# not sure about the coordinate transformations\n",
    "def cyl_to_cart(v, cos_phi, sin_phi):\n",
    "    \"\"\"\n",
    "    Converts cylindrical coordinates to cartesian coordinates.\n",
    "    Arguments:\n",
    "    v : array_like\n",
    "        Cylindrical coordinates vector (r, theta, z)\n",
    "    cos_phi : float\n",
    "        Cosine of the angle phi\n",
    "    sin_phi : float\n",
    "        Sine of the angle phi\n",
    "    \n",
    "    Returns:\n",
    "    numpy array representing the Cartesian coordinates (x, y, z)\n",
    "    \"\"\"\n",
    "    return np.array([v[0] * cos_phi - v[1] * sin_phi,\n",
    "                     v[0] * sin_phi + v[1] * cos_phi,\n",
    "                     v[2]\n",
    "                     ])\n",
    "\n",
    "def cart_to_cyl(v, cos_phi, sin_phi):\n",
    "    \"\"\"\n",
    "    Converts cartesian coordinates to cylindrical coordinates.\n",
    "    Arguments:\n",
    "    v : array_like\n",
    "        Cartesian coordinates vector (x, y, z)\n",
    "    cos_phi : float\n",
    "        Cosine of the angle phi\n",
    "    sin_phi : float\n",
    "        Sine of the angle phi\n",
    "    \n",
    "    Returns:\n",
    "    numpy array representing the Cylindrical coordinates (r, theta, z)\n",
    "    \"\"\"\n",
    "    return np.array([v[0] * cos_phi + v[1] * sin_phi,\n",
    "                     -v[0] * sin_phi + v[1] * cos_phi,\n",
    "                     v[2]\n",
    "                     ])\n",
    "\n",
    "def sigmoid(x, x0, w):\n",
    "    \"\"\"\n",
    "    Calculates the logistic sigmoid function.\n",
    "    Arguments:\n",
    "    x : float\n",
    "        The input value\n",
    "    x0 : float\n",
    "        The midpoint of the sigmoid\n",
    "    w : float\n",
    "        The width of the sigmoid\n",
    "    \n",
    "    Returns:\n",
    "    The result of the sigmoid function\n",
    "    \"\"\"\n",
    "    return 1 / (1 + np.exp(-(x - x0) / w))\n",
    "\n",
    "def delta_phi(phi0, phi1):\n",
    "    \"\"\"\n",
    "    Calculates the angle between v0 = (cos(phi0), sin(phi0)) and v1 = (cos(phi1), sin(phi1)).\n",
    "    Arguments:\n",
    "    phi0 : float\n",
    "        First angle in radians\n",
    "    phi1 : float\n",
    "        Second angle in radians\n",
    "    \n",
    "    Returns:\n",
    "    The angle between v0 and v1 in radians.\n",
    "    \"\"\"\n",
    "    return np.arccos(np.cos(phi1) * np.cos(phi0) + np.sin(phi1) * np.sin(phi0))\n",
    "\n",
    "def sign(b, x, y):\n",
    "    \"\"\"\n",
    "    Returns the sign of B-Field strength depending on quadrant.\n",
    "    For plotting.\n",
    "    Arguments:\n",
    "    b : array_like\n",
    "        b-field in cartesian coordinates\n",
    "    x : float\n",
    "        x-position of b-field vector\n",
    "    y : float\n",
    "        y-position of b-field vector\n",
    "    \"\"\"\n",
    "    if x>0 and y>0:\n",
    "        return 1 if b[1]>0 else -1\n",
    "    elif x<0 and y<0:\n",
    "        return -1 if b[1]>0 else 1\n",
    "    elif x>0 and y<0:\n",
    "        return 1 if b[0]>0 else -1\n",
    "    else:\n",
    "        return -1 if b[0]>0 else 1"
   ]
  },
  {
   "cell_type": "markdown",
   "id": "836c8a9c",
   "metadata": {},
   "source": [
    "## Fourier-Spiral disk field"
   ]
  },
  {
   "cell_type": "code",
   "execution_count": 5,
   "id": "14a119ce",
   "metadata": {},
   "outputs": [],
   "source": [
    "def get_spiral_field(x, y, z):\n",
    "    # reference radius\n",
    "    r_ref = 5 * kpc\n",
    "    # inner boundary of spiral field, w = transition width\n",
    "    r_inner = 5 * kpc\n",
    "    w_inner = 0.5 * kpc\n",
    "    # outer boundary of spiral field\n",
    "    r_outer = 20 * kpc\n",
    "    w_outer = 0.5 * kpc\n",
    "    \n",
    "    #cylindrical coordinates\n",
    "    r2 = x**2 + y**2\n",
    "    if r2 == 0:\n",
    "        return np.array([0, 0, 0])\n",
    "\n",
    "    r = np.sqrt(r2)\n",
    "    phi = np.arctan2(y, x)\n",
    "\n",
    "    # Eq. (13)\n",
    "    hdz = 1 - sigmoid(abs(z), fDiskH, fDiskW)\n",
    "    \n",
    "    # Eq. (14) time r_ref divided by r\n",
    "    r_fac_i = sigmoid(r, r_inner, w_inner)\n",
    "    r_fac_o = 1 - sigmoid(r, r_outer, w_outer)\n",
    "    # (using lim r--> 0 (1-exp(-r^2))/r --> r - r^3/2 + ...)\n",
    "    if r > 1e-5 * kpc:\n",
    "        r_fac = (1 - np.exp(-r * r)) / r\n",
    "    else:\n",
    "        r * (1 - r2 / 2)\n",
    "    gdr_times_rref_by_r = r_ref * r_fac * r_fac_o * r_fac_i\n",
    "    \n",
    "    # Eq. (12)\n",
    "    phi0 = phi - np.log(r / r_ref) / fTanPitch\n",
    "\n",
    "    # Eq. (10)\n",
    "    b = (fDiskB1 * np.cos(1 * (phi0 - fDiskPhase1)) +\n",
    "         fDiskB2 * np.cos(2 * (phi0 - fDiskPhase2)) +\n",
    "         fDiskB3 * np.cos(3 * (phi0 - fDiskPhase3)))\n",
    "\n",
    "    # Eq. (11)\n",
    "    fac = hdz * gdr_times_rref_by_r\n",
    "    b_cyl = np.array([b * fac * fSinPitch,\n",
    "                      b * fac * fCosPitch,\n",
    "                      0])\n",
    "\n",
    "    cos_phi = x / r\n",
    "    sin_phi = y / r\n",
    "    return cyl_to_cart(b_cyl, cos_phi, sin_phi)"
   ]
  },
  {
   "cell_type": "markdown",
   "id": "9aa04887",
   "metadata": {},
   "source": [
    "### Plotting"
   ]
  },
  {
   "cell_type": "code",
   "execution_count": 6,
   "id": "b088829d",
   "metadata": {
    "scrolled": false
   },
   "outputs": [
    {
     "data": {
      "image/png": "[encoded data removed]",
      "text/plain": [
       "<Figure size 504x432 with 2 Axes>"
      ]
     },
     "metadata": {
      "needs_background": "light"
     },
     "output_type": "display_data"
    }
   ],
   "source": [
    "z = 0\n",
    "\n",
    "# grid of x and y values\n",
    "x = np.linspace(-20, 20, 100)\n",
    "y = np.linspace(-20, 20, 100)\n",
    "xx, yy = np.meshgrid(x, y, indexing='ij')\n",
    "\n",
    "B_strength = np.zeros_like(xx)\n",
    "\n",
    "for i in range(len(x)):\n",
    "    for j in range(len(y)):\n",
    "        B = get_spiral_field(xx[i,j], yy[i,j], z)\n",
    "        B_strength[i,j] = np.linalg.norm(B)*sign(B, xx[i,j], yy[i,j])\n",
    "\n",
    "\n",
    "\n",
    "plt.figure(figsize=(7,6))\n",
    "p = plt.pcolormesh(xx, yy, B_strength, cmap=plt.cm.bwr, shading='auto')\n",
    "plt.colorbar(p, label = '$B (\\mu\\mathrm{G})$')\n",
    "\n",
    "\n",
    "plt.xlabel('x (kpc)')\n",
    "plt.ylabel('y (kpc)')\n",
    "plt.plot(-8.5, 0., marker='o', mec='k', mfc='w')\n",
    "plt.grid()\n",
    "\n",
    "plt.show()"
   ]
  },
  {
   "cell_type": "markdown",
   "id": "284ea29f",
   "metadata": {},
   "source": [
    "## Spiral Spur disk field"
   ]
  },
  {
   "cell_type": "markdown",
   "id": "18512e3a",
   "metadata": {},
   "source": [
    "Parameters for spur model"
   ]
  },
  {
   "cell_type": "code",
   "execution_count": 7,
   "id": "40ba1c24",
   "metadata": {},
   "outputs": [],
   "source": [
    "fDiskB1        = -4.2993328e+00 * microgauss\n",
    "fDiskH         =  7.5019749e-01 * kpc\n",
    "fDiskPhase1    =  1.5589875e+02 * degree\n",
    "fDiskPitch     =  1.2074432e+01 * degree\n",
    "fDiskW         =  1.2263120e-01 * kpc\n",
    "fPoloidalB     =  9.9302987e-01 * microgauss\n",
    "fPoloidalP     =  1.3982374e+00 * kpc\n",
    "fPoloidalR     =  7.1973387e+00 * kpc\n",
    "fPoloidalW     =  1.2262244e-01 * kpc\n",
    "fPoloidalZ     =  4.4853270e+00 * kpc\n",
    "fSpurCenter    =  1.5718686e+02 * degree\n",
    "fSpurLength    =  3.1839577e+01 * degree\n",
    "fSpurWidth     =  1.0318114e+01 * degree\n",
    "fStriation     =  3.3022369e-01\n",
    "fToroidalBN    =  2.9286724e+00 * microgauss\n",
    "fToroidalBS    = -2.5979895e+00 * microgauss\n",
    "fToroidalR     =  9.7536425e+00 * kpc\n",
    "fToroidalW     =  1.4210055e+00 * kpc\n",
    "fToroidalZ     =  6.0941229e+00 * kpc\n",
    "\n",
    "fSinPitch = np.sin(fDiskPitch)\n",
    "fCosPitch = np.cos(fDiskPitch)\n",
    "fTanPitch = np.tan(fDiskPitch)"
   ]
  },
  {
   "cell_type": "code",
   "execution_count": 8,
   "id": "926f52f5",
   "metadata": {},
   "outputs": [],
   "source": [
    "def get_spur_field(x, y, z):\n",
    "    # reference approximately at solar radius\n",
    "    r_ref = 8.2 * kpc\n",
    "\n",
    "    # cylindrical coordinates\n",
    "    r2 = np.power(x, 2) + np.power(y, 2)\n",
    "    r = np.sqrt(r2)\n",
    "    if r < np.finfo(float).tiny:\n",
    "        return np.array([0, 0, 0])\n",
    "\n",
    "    phi = np.arctan2(y, x)\n",
    "    if phi < 0:\n",
    "        phi += kTwoPi\n",
    "    \n",
    "    phi_ref = fDiskPhase1\n",
    "    # ??\n",
    "    i_best = -2\n",
    "    best_dist = -1\n",
    "    for i in range(-1, 2):\n",
    "        pphi = phi - phi_ref + i * kTwoPi\n",
    "        rr = r_ref * np.exp(pphi * fTanPitch)\n",
    "        if best_dist < 0 or np.abs(r - rr) < best_dist:\n",
    "            best_dist = np.abs(r - rr)\n",
    "            i_best = i\n",
    "\n",
    "    if i_best == 0:\n",
    "        # Eq. 12\n",
    "        phi0 = phi - np.log(r / r_ref) / fTanPitch\n",
    "\n",
    "        # Eq. (16)\n",
    "        delta_phi0 = delta_phi(phi_ref, phi0)\n",
    "        # print(delta_phi0)\n",
    "        # print(phi0-phi_ref)\n",
    "        delta = delta_phi0 / fSpurWidth\n",
    "        b = fDiskB1 * np.exp(-0.5 * delta**2)\n",
    "\n",
    "        # Eq. (18)\n",
    "        w_s = 5 * degree\n",
    "        phi_c = fSpurCenter\n",
    "        delta_phi_c = delta_phi(phi_c, phi)\n",
    "        l_c = fSpurLength\n",
    "        g_s = 1 - sigmoid(np.abs(delta_phi_c), l_c, w_s)\n",
    "\n",
    "        # Eq. (13)\n",
    "        hd = 1 - sigmoid(np.abs(z), fDiskH, fDiskW)\n",
    "\n",
    "        # Eq. (17)\n",
    "        b_s = r_ref / r * b * hd * g_s\n",
    "        b_cyl = np.array([b_s * fSinPitch, b_s * fCosPitch, 0])\n",
    "        \n",
    "        cos_phi = x / r\n",
    "        sin_phi = y / r\n",
    "        return cyl_to_cart(b_cyl, cos_phi, sin_phi)\n",
    "    else:\n",
    "        return np.array([0, 0, 0])"
   ]
  },
  {
   "cell_type": "markdown",
   "id": "635f8f71",
   "metadata": {},
   "source": [
    "### Plotting"
   ]
  },
  {
   "cell_type": "code",
   "execution_count": 9,
   "id": "4869bc77",
   "metadata": {},
   "outputs": [
    {
     "data": {
      "image/png": "[encoded data removed]",
      "text/plain": [
       "<Figure size 504x432 with 2 Axes>"
      ]
     },
     "metadata": {
      "needs_background": "light"
     },
     "output_type": "display_data"
    }
   ],
   "source": [
    "z = 0\n",
    "\n",
    "# grid of x and y values\n",
    "x = np.linspace(-20, 20, 100)\n",
    "y = np.linspace(-20, 20, 100)\n",
    "xx, yy = np.meshgrid(x, y, indexing='ij')\n",
    "\n",
    "B_strength = np.zeros_like(xx)\n",
    "\n",
    "for i in range(len(x)):\n",
    "    for j in range(len(y)):\n",
    "        B = get_spur_field(xx[i,j], yy[i,j], z)\n",
    "        B_strength[i,j] = np.linalg.norm(B)*sign(B, xx[i,j], yy[i,j])\n",
    "\n",
    "\n",
    "cmap0 = LinearSegmentedColormap.from_list('', ['darkblue', 'white'])\n",
    "plt.figure(figsize=(7,6))\n",
    "p = plt.pcolormesh(xx, yy, B_strength, cmap=cmap0, shading='auto')\n",
    "plt.colorbar(p, label = '$B (\\mu\\mathrm{G})$')\n",
    "\n",
    "\n",
    "plt.xlabel('x (kpc)')\n",
    "plt.ylabel('y (kpc)')\n",
    "plt.plot(-8.5, 0., marker='o', mec='k', mfc='w')\n",
    "plt.grid()\n",
    "\n",
    "plt.show()"
   ]
  },
  {
   "cell_type": "code",
   "execution_count": null,
   "id": "6cf16735",
   "metadata": {},
   "outputs": [],
   "source": []
  }
 ],
 "metadata": {
  "kernelspec": {
   "display_name": "Python 3",
   "language": "python",
   "name": "python3"
  },
  "language_info": {
   "codemirror_mode": {
    "name": "ipython",
    "version": 3
   },
   "file_extension": ".py",
   "mimetype": "text/x-python",
   "name": "python",
   "nbconvert_exporter": "python",
   "pygments_lexer": "ipython3",
   "version": "3.6.13"
  }
 },
 "nbformat": 4,
 "nbformat_minor": 5
}
