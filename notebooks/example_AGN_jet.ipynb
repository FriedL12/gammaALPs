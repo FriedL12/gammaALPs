{
 "cells": [
  {
   "cell_type": "markdown",
   "metadata": {},
   "source": [
    "In this example, we will consider the conversion in the AGN jet and the Galactic mangetic field. We will use the source 3C454.3, a flat spectrum radio quasar from which giant flares at $\\gamma$-ray energies were detected with the Fermi LAT. The magnetic fields assumed for the blazar are taken from Kutkin et al. (2014), http://adsabs.harvard.edu/abs/2014MNRAS.437.3396K "
   ]
  },
  {
   "cell_type": "markdown",
   "metadata": {},
   "source": [
    "## Imports"
   ]
  },
  {
   "cell_type": "markdown",
   "metadata": {},
   "source": [
    "We start with the usual imports"
   ]
  },
  {
   "cell_type": "code",
   "execution_count": 1,
   "metadata": {},
   "outputs": [],
   "source": [
    "from gammaALPs import Source, ALP, ModuleList\n",
    "from gammaALPs.base import environs, transfer\n",
    "import numpy as np\n",
    "import matplotlib.pyplot as plt\n",
    "from ebltable.tau_from_model import OptDepth\n",
    "from astropy import constants as c\n",
    "from matplotlib.patheffects import withStroke\n",
    "from astropy import units as u"
   ]
  },
  {
   "cell_type": "code",
   "execution_count": 2,
   "metadata": {},
   "outputs": [],
   "source": [
    "effect  = dict(path_effects=[withStroke(foreground=\"w\", linewidth=2)])"
   ]
  },
  {
   "cell_type": "code",
   "execution_count": 3,
   "metadata": {},
   "outputs": [],
   "source": [
    "%matplotlib inline"
   ]
  },
  {
   "cell_type": "markdown",
   "metadata": {},
   "source": [
    "## Defining the source"
   ]
  },
  {
   "cell_type": "markdown",
   "metadata": {},
   "source": [
    "Next we set up the source parameters, taken e.g. from NED, http://ned.ipac.caltech.edu/cgi-bin/objsearch?objname=3C454.3&extend=no&hconst=73&omegam=0.27&omegav=0.73&corr_z=1&out_csys=Equatorial&out_equinox=J2000.0&obj_sort=RA+or+Longitude&of=pre_text&zv_breaker=30000.0&list_limit=5&img_stamp=YES"
   ]
  },
  {
   "cell_type": "code",
   "execution_count": 4,
   "metadata": {},
   "outputs": [
    {
     "name": "stdout",
     "output_type": "stream",
     "text": [
      "0.859\n",
      "-38.1836097158645 16.148333333333333\n",
      "86.11095204202921 -38.1836097158645\n",
      "27.707499216562937\n"
     ]
    }
   ],
   "source": [
    "src = Source(z = 0.859000, ra = '22h53m57.7s', dec = '+16d08m54s',\n",
    "            bLorentz = 15.6, theta_obs = 1.3) # 3C454.3\n",
    "#src = Source(z = 0.4, ra = '15h55m43.0440s', dec = '+11d11m24.365s', bLorentz = 15.64, theta_obs = np.rad2deg(1./15.64))\n",
    "print (src.z)\n",
    "print (src.ra, src.dec)\n",
    "print (src.l, src.b)\n",
    "print (src._doppler)"
   ]
  },
  {
   "cell_type": "markdown",
   "metadata": {},
   "source": [
    "Note that we also provide the bulk Lorentz factor $\\Gamma = 15.6$ and the observation angle in degrees, $\\theta = 1.3^\\circ$, according to Kutkin et al., who used average values from Jorstad et al. (2005). These values yield the Doppler factor, $\\delta \\sim 27.7$."
   ]
  },
  {
   "cell_type": "markdown",
   "metadata": {},
   "source": [
    "### Init the module list"
   ]
  },
  {
   "cell_type": "markdown",
   "metadata": {},
   "source": [
    "Now we set up the module list with some arbitrary ALP parameters. The energy range is motivated from the Fermi-LAT energy range."
   ]
  },
  {
   "cell_type": "code",
   "execution_count": 5,
   "metadata": {},
   "outputs": [],
   "source": [
    "EGeV = np.logspace(-2,4.,2000)\n",
    "#EGeV = np.logspace(1., 5., 2000)"
   ]
  },
  {
   "cell_type": "markdown",
   "metadata": {},
   "source": [
    "Here's the initial polarization matrix, again we assume an unpolarized beam."
   ]
  },
  {
   "cell_type": "code",
   "execution_count": 6,
   "metadata": {},
   "outputs": [],
   "source": [
    "pin = np.diag((1.,1.,0.)) * 0.5"
   ]
  },
  {
   "cell_type": "code",
   "execution_count": 7,
   "metadata": {},
   "outputs": [],
   "source": [
    "m = ModuleList(ALP(m = 1., g = 2.), src, pin = pin, EGeV = EGeV, seed = 0)"
   ]
  },
  {
   "cell_type": "markdown",
   "metadata": {},
   "source": [
    "Now add the modules:"
   ]
  },
  {
   "cell_type": "code",
   "execution_count": 8,
   "metadata": {},
   "outputs": [],
   "source": [
    "gamma_min = 1.\n",
    "m.add_propagation(\"Jet\", \n",
    "                  0, # position of module counted from the source. \n",
    "                  B0 = 0.32, #Jet field at r = R0 in G \n",
    "                  r0 = 1., #distance from BH where B = B0 in pc\n",
    "                  rgam = 3.19e17 * u.cm.to('pc'), # distance of gamma-ray emitting region to BH\n",
    "                  alpha = -1, #exponent of toroidal mangetic field (default: -1.)\n",
    "                  psi = np.pi/4., #Angle between one photon polarization state and B field. \n",
    "                          #Assumed constant over entire jet. \n",
    "                  helical = True, #if True, use helical magnetic-field model from Clausen-Brown et al. (2011). \n",
    "                                    #In this case, the psi kwarg is treated is as the phi angle \n",
    "                                    #of the photon trajectory in the cylindrical jet coordinate system\n",
    "                  equipartition = True, #if true, assume equipartition between electrons and the B field. \n",
    "                            #This will overwrite the exponent of electron density beta = 2 * alpha \n",
    "                            #and set n0 given the minimum electron lorentz factor set with gamma_min\n",
    "                  gamma_min = gamma_min, #minimum lorentz factor of emitting electrons, only used if equipartition = True\n",
    "                  gamma_max = np.exp(10.) * gamma_min, #maximum lorentz factor of emitting electrons, only used if equipartition = True\n",
    "                  Rjet = 40., #maximum jet length in pc (default: 1000.)\n",
    "                  n0 = 1e4, beta = -2.\n",
    "                 )\n",
    "m.add_propagation(\"EBL\",1, eblmodel = 'dominguez') # EBL attenuation comes second, after beam has left cluster\n",
    "m.add_propagation(\"GMF\",2, model = 'jansson12', model_sum = 'ASS') # finally, the beam enters the Milky Way Field"
   ]
  },
  {
   "cell_type": "markdown",
   "metadata": {},
   "source": [
    "### Peek at the electron density and the magnetic field"
   ]
  },
  {
   "cell_type": "code",
   "execution_count": 9,
   "metadata": {},
   "outputs": [
    {
     "name": "stdout",
     "output_type": "stream",
     "text": [
      "3124.111527961476 39.799214583594626\n"
     ]
    },
    {
     "data": {
      "image/png": "[encoded data removed]",
      "text/plain": [
       "<Figure size 432x288 with 1 Axes>"
      ]
     },
     "metadata": {
      "needs_background": "light"
     },
     "output_type": "display_data"
    }
   ],
   "source": [
    "plt.loglog(m.modules[0]._r, m.modules[0].B)\n",
    "plt.loglog(m.modules[0]._r, m.modules[0].nel, color = plt.cm.tab10(0.1), ls = '--')\n",
    "plt.grid(True)\n",
    "plt.xlabel('Distance from BH [pc]')\n",
    "plt.ylabel('B field [$\\mu$G] / Electron dentity [cm$^{-3}$]')\n",
    "print (m.modules[0].B[-1],m.modules[0]._r[-1])\n",
    "#print (m.modules[0]._spp)\n",
    "#print (m.modules[0]._cpp)"
   ]
  },
  {
   "cell_type": "markdown",
   "metadata": {},
   "source": [
    "### Compute the photon-ALP mixing probability"
   ]
  },
  {
   "cell_type": "markdown",
   "metadata": {},
   "source": [
    "Set the ALP values"
   ]
  },
  {
   "cell_type": "code",
   "execution_count": 89,
   "metadata": {},
   "outputs": [],
   "source": [
    "m.alp.m = 100.\n",
    "m.alp.g = 0.3"
   ]
  },
  {
   "cell_type": "code",
   "execution_count": 90,
   "metadata": {},
   "outputs": [
    {
     "name": "stderr",
     "output_type": "stream",
     "text": [
      "WARNING:root:Not all values of linear polarization are real values!\n",
      "WARNING:root:Not all values of circular polarization are real values!\n"
     ]
    }
   ],
   "source": [
    "px,py,pa = m.run(multiprocess=2)"
   ]
  },
  {
   "cell_type": "markdown",
   "metadata": {},
   "source": [
    "### Plot the output"
   ]
  },
  {
   "cell_type": "code",
   "execution_count": 91,
   "metadata": {},
   "outputs": [],
   "source": [
    "atten = np.exp(-m.modules[1].opt_depth(src.z, m.EGeV / 1e3))"
   ]
  },
  {
   "cell_type": "code",
   "execution_count": 92,
   "metadata": {},
   "outputs": [
    {
     "name": "stderr",
     "output_type": "stream",
     "text": [
      "WARNING:matplotlib.legend:No handles with labels found to put in legend.\n"
     ]
    },
    {
     "name": "stdout",
     "output_type": "stream",
     "text": [
      "(1, 2000)\n",
      "1.1526168455103961e-08 1.081570326818511e-08\n"
     ]
    },
    {
     "data": {
      "image/png": "[encoded data removed]",
      "text/plain": [
       "<Figure size 432x288 with 1 Axes>"
      ]
     },
     "metadata": {
      "needs_background": "light"
     },
     "output_type": "display_data"
    }
   ],
   "source": [
    "pgg = px + py # the total photon survival probability\n",
    "#pgg = pa\n",
    "print (pgg.shape)\n",
    "#print (np.max(pgg[0][m.EGeV < 1.]) - np.min(pgg[0][m.EGeV < 1.]))\n",
    "print (px[0,-1], py[0,-1])\n",
    "\n",
    "for p in pgg: # plot all realizations\n",
    "    plt.plot(m.EGeV, p / atten)\n",
    "    #plt.plot(m.EGeV, p )\n",
    "\n",
    "plt.grid(True, lw = 0.2)\n",
    "plt.grid(True, which = 'minor', axis = 'y', lw = 0.2)\n",
    "\n",
    "#plt.plot(m.EGeV, atten)\n",
    "plt.xlabel('Energy (GeV)')\n",
    "plt.ylabel(r'Photon survival probability')\n",
    "plt.legend(loc = 0, fontsize = 'medium')\n",
    "\n",
    "plt.gca().set_xscale('log')\n",
    "plt.annotate(r'$m_a = {0:.1f}\\,\\mathrm{{neV}}, g_{{a\\gamma}} = {1:.2f} \\times 10^{{-11}}\\,\\mathrm{{GeV}}^{{-1}}$'.format(m.alp.m,m.alp.g),\n",
    "             xy = (0.05,0.1), size = 'large', xycoords = 'axes fraction', ha = 'left',**effect)\n",
    "\n",
    "\n",
    "plt.axvline(transfer.EminGeV(m.alp.m, m.alp.g, m.modules[0].nel[0], m.modules[0].B[0]), ls = '--')\n",
    "plt.axvline(transfer.EminGeV(m.alp.m, m.alp.g, m.modules[-1].nel[-1], m.modules[-1].B[-1]), ls = ':')\n",
    "plt.axvline(transfer.EmaxGeV(m.alp.g, m.modules[0].B[0]), ls = '-.')\n",
    "plt.gca().set_ylim(0.5,1.1)\n",
    "plt.gca().set_xlim(1e-1,1e2)\n",
    "#plt.gca().set_yscale('log')\n",
    "plt.subplots_adjust(left = 0.2)\n",
    "plt.savefig(\"Pgg.png\", dpi = 200)"
   ]
  },
  {
   "cell_type": "code",
   "execution_count": 76,
   "metadata": {},
   "outputs": [
    {
     "data": {
      "image/png": "[encoded data removed]",
      "text/plain": [
       "<Figure size 432x288 with 1 Axes>"
      ]
     },
     "metadata": {
      "needs_background": "light"
     },
     "output_type": "display_data"
    }
   ],
   "source": [
    "for p in pgg: # plot all realizations\n",
    "    plt.loglog(1./m.EGeV, p)"
   ]
  },
  {
   "cell_type": "code",
   "execution_count": 69,
   "metadata": {},
   "outputs": [],
   "source": [
    "mask = m.EGeV < 10.\n",
    "ft = np.fft.fft((pgg[0] / atten)[mask])\n",
    "ff = np.fft.fftfreq((pgg[0][mask].shape[0]))\n",
    "t = np.arange(1.,256)\n",
    "fs = np.fft.fft(np.sin(t))\n",
    "ffs = np.fft.fftfreq(t.shape[0])"
   ]
  },
  {
   "cell_type": "code",
   "execution_count": 71,
   "metadata": {},
   "outputs": [
    {
     "data": {
      "text/plain": [
       "[<matplotlib.lines.Line2D at 0x11e1933c8>]"
      ]
     },
     "execution_count": 71,
     "metadata": {},
     "output_type": "execute_result"
    },
    {
     "data": {
      "image/png": "[encoded data removed]",
      "text/plain": [
       "<Figure size 432x288 with 1 Axes>"
      ]
     },
     "metadata": {
      "needs_background": "light"
     },
     "output_type": "display_data"
    }
   ],
   "source": [
    "plt.loglog(ff, np.real(ft * ft.conjugate()), ls = '-', lw = 0.5, marker = 'None', alpha = 0.5)\n",
    "plt.loglog(ffs, np.real(fs * fs.conjugate()), ls = '-', lw = 0.5, marker = 'None', alpha = 0.5)#"
   ]
  },
  {
   "cell_type": "code",
   "execution_count": null,
   "metadata": {},
   "outputs": [],
   "source": []
  },
  {
   "cell_type": "code",
   "execution_count": null,
   "metadata": {},
   "outputs": [],
   "source": []
  }
 ],
 "metadata": {
  "kernelspec": {
   "display_name": "Python 3",
   "language": "python",
   "name": "python3"
  },
  "language_info": {
   "codemirror_mode": {
    "name": "ipython",
    "version": 3
   },
   "file_extension": ".py",
   "mimetype": "text/x-python",
   "name": "python",
   "nbconvert_exporter": "python",
   "pygments_lexer": "ipython3",
   "version": "3.6.7"
  }
 },
 "nbformat": 4,
 "nbformat_minor": 2
}
