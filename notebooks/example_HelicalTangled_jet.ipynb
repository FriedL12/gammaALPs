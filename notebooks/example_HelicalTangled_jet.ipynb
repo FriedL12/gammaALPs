{
 "cells": [
  {
   "cell_type": "markdown",
   "metadata": {},
   "source": [
    "This example shows the HelicalTangled magnetic field class, for a blazar jet magnetic field comprised of a helical and a tangled component. Values used for the jet properties come from the best fit of the Potter & Cotter model: Potter & Cotter 2015, https://ui.adsabs.harvard.edu/abs/2015MNRAS.453.4070P/"
   ]
  },
  {
   "cell_type": "markdown",
   "metadata": {},
   "source": [
    "## Imports"
   ]
  },
  {
   "cell_type": "code",
   "execution_count": 1,
   "metadata": {},
   "outputs": [],
   "source": [
    "from gammaALPs import Source, ALP, ModuleList\n",
    "from gammaALPs.base import environs, transfer\n",
    "import numpy as np\n",
    "import matplotlib.pyplot as plt\n",
    "from ebltable.tau_from_model import OptDepth\n",
    "from astropy import constants as c\n",
    "from matplotlib.patheffects import withStroke\n",
    "from astropy import units as u\n",
    "from glob import glob\n",
    "from IPython.display import Image, display\n",
    "import time"
   ]
  },
  {
   "cell_type": "code",
   "execution_count": 2,
   "metadata": {},
   "outputs": [],
   "source": [
    "effect  = dict(path_effects=[withStroke(foreground=\"w\", linewidth=2)])"
   ]
  },
  {
   "cell_type": "code",
   "execution_count": 3,
   "metadata": {},
   "outputs": [],
   "source": [
    "%matplotlib inline"
   ]
  },
  {
   "cell_type": "markdown",
   "metadata": {},
   "source": [
    "## Define the source"
   ]
  },
  {
   "cell_type": "markdown",
   "metadata": {},
   "source": [
    "We will use Markarian 501 as the example."
   ]
  },
  {
   "cell_type": "code",
   "execution_count": 4,
   "metadata": {},
   "outputs": [
    {
     "name": "stdout",
     "output_type": "stream",
     "text": [
      "0.034\n",
      "(253.4675, 39.76027777777778)\n",
      "(63.60017233364854, 38.85921879955344)\n"
     ]
    }
   ],
   "source": [
    "src = Source(z = 0.034 , ra = '16h53m52.2s', dec = '+39d45m37s',\n",
    "            ) # Mrk501\n",
    "print (src.z)\n",
    "print (src.ra, src.dec)\n",
    "print (src.l, src.b)"
   ]
  },
  {
   "cell_type": "markdown",
   "metadata": {},
   "source": [
    "## Init the module list"
   ]
  },
  {
   "cell_type": "markdown",
   "metadata": {},
   "source": [
    "Set up the module list with arbitrary ALP parameters. Energy range is roughly CTA energies."
   ]
  },
  {
   "cell_type": "code",
   "execution_count": 5,
   "metadata": {},
   "outputs": [],
   "source": [
    "EGeV = np.logspace(0.,5.,2000)"
   ]
  },
  {
   "cell_type": "markdown",
   "metadata": {},
   "source": [
    "Unpolarised initial beam."
   ]
  },
  {
   "cell_type": "code",
   "execution_count": 6,
   "metadata": {},
   "outputs": [],
   "source": [
    "pin = np.diag((1.,1.,0.)) * 0.5"
   ]
  },
  {
   "cell_type": "code",
   "execution_count": 7,
   "metadata": {},
   "outputs": [],
   "source": [
    "m = ModuleList(ALP(m = 1, g = 2), src, pin = pin, EGeV = EGeV, seed = 0)"
   ]
  },
  {
   "cell_type": "markdown",
   "metadata": {},
   "source": [
    "Add the jet module. We will ignore any other magnetic fields. Here we use a field with 70% magnetic energy density in the tangled component, and a helical component which is a purely toroidal field. Values come from Potter & Cotter best fit. For the tangled field coherence length, we use a uniform distribution between 0.1 and 1. times the jet width at each point. This is chosen with the \"l_tcor='jetwidth'\" and \"jwf_dist = 'Uniform'\" options. l_tcor can also be given as a constant in parsecs, or the keyword 'jetdom' can be used to used the jet field domains as the tangled domains."
   ]
  },
  {
   "cell_type": "code",
   "execution_count": 8,
   "metadata": {},
   "outputs": [
    {
     "name": "stdout",
     "output_type": "stream",
     "text": [
      "Not resolving tangled field: min z step is 0.00985791510284 pc but min tangled length is 0.00112533204076 pc\n",
      "# of z doms is 399 but # tangled doms is 161\n",
      "rerunning with 641 domains. new min z step is 0.000281333010191 pc\n"
     ]
    }
   ],
   "source": [
    "m.add_propagation(\"JetHelicalTangled\", \n",
    "                  0, # position of module counted from the source. \n",
    "                  ndom = 400,\n",
    "                  ft = 0.7, # fraction of magnetic field energy density in tangled field \n",
    "                  Bt_exp = -1., # exponent of the transverse component of the helical field\n",
    "                  r_T = 0.3, # radius at which helical field becomes toroidal in pc\n",
    "                  r0 = 0.3, # radius where B field is equal to b0 in pc\n",
    "                  B0 = 0.8, # Bfield strength in G\n",
    "                  g0 = 9., # jet lorenz factor at r0\n",
    "                  n0 = 1.e4, # electron density at r0 in cm**-3\n",
    "                  rjet = 98.3e+3, # jet length in pc\n",
    "                  rvhe = 0.3, # distance of gamma-ray emission region from BH in pc\n",
    "                  alpha = 1.68, # power-law index of electron energy distribution function\n",
    "                  l_tcor='jetwidth', # tangled field coherence average length in pc if a constant, or keyword\n",
    "                  #jwf = 1., # jet width factor used when calculating l_tcor = jwf*jetwidth\n",
    "                  jwf_dist = 'Uniform' # type of distribution for jet width factors (jwf) \n",
    "                 )"
   ]
  },
  {
   "cell_type": "markdown",
   "metadata": {},
   "source": [
    "The default number of log-spaced field domains is 400 (this is enough to resolve the field for ALPs). In this case, however, this was not enough to resolve the tangled field. Therefore the number of domains was increased until the resolution was right and the module was re-run with 641 field domains, making sure that the edges line up with the 161 tangled component domains."
   ]
  },
  {
   "cell_type": "markdown",
   "metadata": {},
   "source": [
    "### Peek at the electron density and the magnetic field"
   ]
  },
  {
   "cell_type": "markdown",
   "metadata": {},
   "source": [
    "The overall shape of the magnetic field strength in the jet comes from the Potter & Cotter model"
   ]
  },
  {
   "cell_type": "code",
   "execution_count": 9,
   "metadata": {},
   "outputs": [
    {
     "data": {
      "text/plain": [
       "Text(0,0.5,u'B field [$\\\\mu$G]')"
      ]
     },
     "execution_count": 9,
     "metadata": {},
     "output_type": "execute_result"
    },
    {
     "data": {
      "image/png": "[encoded data removed]",
      "text/plain": [
       "<matplotlib.figure.Figure at 0x7f2977b533d0>"
      ]
     },
     "metadata": {
      "needs_background": "light"
     },
     "output_type": "display_data"
    }
   ],
   "source": [
    "plt.loglog(m.modules[0]._r, m.modules[0].B)\n",
    "plt.grid(True)\n",
    "plt.xlabel('Distance from BH [pc]')\n",
    "plt.ylabel('Transverse B field [$\\mu$G]')"
   ]
  },
  {
   "cell_type": "markdown",
   "metadata": {},
   "source": [
    "The electron density used to propagate the ALP-photon beam is not the actual electron density, but rather the effective electron density of a cold plasma that would give the save effective photon mass as the non-thermal plasma of the jet. That is why it appears lower here than the actual electron density inputted."
   ]
  },
  {
   "cell_type": "code",
   "execution_count": 10,
   "metadata": {},
   "outputs": [
    {
     "data": {
      "text/plain": [
       "Text(0,0.5,u'Effective Electron dentity [cm$^{-3}$]')"
      ]
     },
     "execution_count": 10,
     "metadata": {},
     "output_type": "execute_result"
    },
    {
     "data": {
      "image/png": "[encoded data removed]",
      "text/plain": [
       "<matplotlib.figure.Figure at 0x7f29caccf090>"
      ]
     },
     "metadata": {
      "needs_background": "light"
     },
     "output_type": "display_data"
    }
   ],
   "source": [
    "plt.loglog(m.modules[0]._r, m.modules[0].nel, color = plt.cm.tab10(0.1), ls = '--')\n",
    "plt.grid(True)\n",
    "plt.ylabel('Effective Electron dentity [cm$^{-3}$]')"
   ]
  },
  {
   "cell_type": "markdown",
   "metadata": {},
   "source": [
    "### Compute the photon-ALP mixing probability"
   ]
  },
  {
   "cell_type": "code",
   "execution_count": 11,
   "metadata": {},
   "outputs": [],
   "source": [
    "m.alp.m = 40.\n",
    "m.alp.g = 0.6"
   ]
  },
  {
   "cell_type": "code",
   "execution_count": 12,
   "metadata": {},
   "outputs": [],
   "source": [
    "px,py,pa = m.run(multiprocess=2)"
   ]
  },
  {
   "cell_type": "markdown",
   "metadata": {},
   "source": [
    "### Plot the output"
   ]
  },
  {
   "cell_type": "code",
   "execution_count": 13,
   "metadata": {},
   "outputs": [
    {
     "name": "stdout",
     "output_type": "stream",
     "text": [
      "(1, 2000)\n",
      "(0.39232490522493052, 0.4561001520518172)\n"
     ]
    },
    {
     "data": {
      "text/plain": [
       "<matplotlib.legend.Legend at 0x7f295ecf5290>"
      ]
     },
     "execution_count": 13,
     "metadata": {},
     "output_type": "execute_result"
    },
    {
     "data": {
      "image/png": "[encoded data removed]",
      "text/plain": [
       "<matplotlib.figure.Figure at 0x7f2977b8cd50>"
      ]
     },
     "metadata": {
      "needs_background": "light"
     },
     "output_type": "display_data"
    }
   ],
   "source": [
    "pgg = px + py # the total photon survival probability\n",
    "\n",
    "print (pgg.shape)\n",
    "print (px[0,-1], py[0,-1])\n",
    "\n",
    "for p in pgg: # plot all realizations\n",
    "    plt.plot(m.EGeV, p )\n",
    "\n",
    "plt.grid(True, lw = 0.2)\n",
    "plt.grid(True, which = 'minor', axis = 'y', lw = 0.2)\n",
    "\n",
    "plt.xlabel('Energy (GeV)')\n",
    "plt.ylabel(r'Photon survival probability')\n",
    "\n",
    "\n",
    "plt.gca().set_xscale('log')\n",
    "plt.annotate(r'$m_a = {0:.1f}\\,\\mathrm{{neV}}, g_{{a\\gamma}} = {1:.2f} \\times 10^{{-11}}\\,\\mathrm{{GeV}}^{{-1}}$'.format(m.alp.m,m.alp.g),\n",
    "             xy = (0.05,0.1), size = 'large', xycoords = 'axes fraction', ha = 'left',**effect)\n",
    "\n",
    "\n",
    "# plt.axvline(transfer.EminGeV(m.alp.m, m.alp.g, m.modules[0].nel[0], m.modules[0].B[0]), ls = '--',label='Emin Base')\n",
    "plt.axvline(transfer.EminGeV(m.alp.m, m.alp.g, m.modules[-1].nel[-1], m.modules[-1].B[-1]), ls = ':',label='Emin Jet End')\n",
    "plt.axvline(transfer.EmaxGeV(m.alp.g, m.modules[0].B[0]), ls = '-.',color='red',label='Emax Jet Base')\n",
    "# plt.axvline(transfer.EmaxGeV(m.alp.g, m.modules[-1].B[-1]), ls = '-',color='red',label='Emax End')\n",
    "plt.gca().set_ylim(0.5,1.)\n",
    "plt.gca().set_xlim(min(m.EGeV),max(m.EGeV))\n",
    "plt.gca().set_yscale('log')\n",
    "plt.subplots_adjust(left = 0.2)\n",
    "plt.legend(loc = 'upper left', fontsize = 'medium')"
   ]
  },
  {
   "cell_type": "code",
   "execution_count": null,
   "metadata": {},
   "outputs": [],
   "source": []
  }
 ],
 "metadata": {
  "kernelspec": {
   "display_name": "Python 2",
   "language": "python",
   "name": "python2"
  },
  "language_info": {
   "codemirror_mode": {
    "name": "ipython",
    "version": 2
   },
   "file_extension": ".py",
   "mimetype": "text/x-python",
   "name": "python",
   "nbconvert_exporter": "python",
   "pygments_lexer": "ipython2",
   "version": "2.7.14"
  }
 },
 "nbformat": 4,
 "nbformat_minor": 2
}
