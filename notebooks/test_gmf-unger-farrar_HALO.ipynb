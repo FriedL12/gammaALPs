{
 "cells": [
  {
   "cell_type": "markdown",
   "id": "4b529917",
   "metadata": {},
   "source": [
    "# Notebook to implement and test the halo field of UF23 Model"
   ]
  },
  {
   "cell_type": "code",
   "execution_count": 1,
   "id": "47b46ff4",
   "metadata": {},
   "outputs": [],
   "source": [
    "import numpy as np\n",
    "import math\n",
    "import matplotlib.pyplot as plt"
   ]
  },
  {
   "cell_type": "markdown",
   "id": "a24d62af",
   "metadata": {},
   "source": [
    "### General Constants"
   ]
  },
  {
   "cell_type": "code",
   "execution_count": 2,
   "id": "b234f14e",
   "metadata": {},
   "outputs": [],
   "source": [
    "kPi = np.pi\n",
    "kTwoPi = 2 * kPi\n",
    "degree = kPi / 180.\n",
    "kpc = 1\n",
    "microgauss = 1\n",
    "megayear = 1\n",
    "Gpc = 1e6 * kpc\n",
    "pc = 1e-3 * kpc\n",
    "second = megayear / (1e6 * 60 * 60 * 24 * 365.25)\n",
    "kilometer = kpc / 3.0856775807e+16"
   ]
  },
  {
   "cell_type": "markdown",
   "id": "8aea210a",
   "metadata": {},
   "source": [
    "### General Functions"
   ]
  },
  {
   "cell_type": "code",
   "execution_count": 3,
   "id": "44daf935",
   "metadata": {},
   "outputs": [],
   "source": [
    "# not sure about the coordinate transformations\n",
    "def cyl_to_cart(v, cos_phi, sin_phi):\n",
    "    \"\"\"\n",
    "    Converts cylindrical coordinates to cartesian coordinates.\n",
    "    Arguments:\n",
    "    v : array_like\n",
    "        Cylindrical coordinates vector (r, theta, z)\n",
    "    cos_phi : float\n",
    "        Cosine of the angle phi\n",
    "    sin_phi : float\n",
    "        Sine of the angle phi\n",
    "    \n",
    "    Returns:\n",
    "    numpy array representing the Cartesian coordinates (x, y, z)\n",
    "    \"\"\"\n",
    "    return np.array([v[0] * cos_phi - v[1] * sin_phi,\n",
    "                     v[0] * sin_phi + v[1] * cos_phi,\n",
    "                     v[2]\n",
    "                     ])\n",
    "\n",
    "def cart_to_cyl(v, cos_phi, sin_phi):\n",
    "    \"\"\"\n",
    "    Converts cartesian coordinates to cylindrical coordinates.\n",
    "    Arguments:\n",
    "    v : array_like\n",
    "        Cartesian coordinates vector (x, y, z)\n",
    "    cos_phi : float\n",
    "        Cosine of the angle phi\n",
    "    sin_phi : float\n",
    "        Sine of the angle phi\n",
    "    \n",
    "    Returns:\n",
    "    numpy array representing the Cylindrical coordinates (r, theta, z)\n",
    "    \"\"\"\n",
    "    return np.array([v[0] * cos_phi + v[1] * sin_phi,\n",
    "                     -v[0] * sin_phi + v[1] * cos_phi,\n",
    "                     v[2]\n",
    "                     ])\n",
    "\n",
    "def sigmoid(x, x0, w):\n",
    "    \"\"\"\n",
    "    Calculates the logistic sigmoid function.\n",
    "    Arguments:\n",
    "    x : float\n",
    "        The input value\n",
    "    x0 : float\n",
    "        The midpoint of the sigmoid\n",
    "    w : float\n",
    "        The width of the sigmoid\n",
    "    \n",
    "    Returns:\n",
    "    The result of the sigmoid function\n",
    "    \"\"\"\n",
    "    return 1 / (1 + np.exp(-(x - x0) / w))\n",
    "\n",
    "def delta_phi(phi0, phi1):\n",
    "    \"\"\"\n",
    "    Calculates the angle between v0 = (cos(phi0), sin(phi0)) and v1 = (cos(phi1), sin(phi1)).\n",
    "    Arguments:\n",
    "    phi0 : float\n",
    "        First angle in radians\n",
    "    phi1 : float\n",
    "        Second angle in radians\n",
    "    \n",
    "    Returns:\n",
    "    The angle between v0 and v1 in radians.\n",
    "    \"\"\"\n",
    "    return np.arccos(np.cos(phi1) * np.cos(phi0) + np.sin(phi1) * np.sin(phi0))"
   ]
  },
  {
   "cell_type": "markdown",
   "id": "a16fa212",
   "metadata": {},
   "source": [
    "## Toroidal Halo Field"
   ]
  },
  {
   "cell_type": "markdown",
   "id": "ad9b3a76",
   "metadata": {},
   "source": [
    "Parameters for base model"
   ]
  },
  {
   "cell_type": "code",
   "execution_count": 4,
   "id": "738d351d",
   "metadata": {},
   "outputs": [],
   "source": [
    "fPoloidalA    =  1 * Gpc\n",
    "\n",
    "fDiskB1        =  1.0878565e+00 * microgauss\n",
    "fDiskB2        =  2.6605034e+00 * microgauss\n",
    "fDiskB3        =  3.1166311e+00 * microgauss\n",
    "fDiskH         =  7.9408965e-01 * kpc\n",
    "fDiskPhase1    =  2.6316589e+02 * degree\n",
    "fDiskPhase2    =  9.7782269e+01 * degree\n",
    "fDiskPhase3    =  3.5112281e+01 * degree\n",
    "fDiskPitch     =  1.0106900e+01 * degree\n",
    "fDiskW         =  1.0720909e-01 * kpc\n",
    "fPoloidalB     =  9.7775487e-01 * microgauss\n",
    "fPoloidalP     =  1.4266186e+00 * kpc\n",
    "fPoloidalR     =  7.2925417e+00 * kpc\n",
    "fPoloidalW     =  1.1188158e-01 * kpc\n",
    "fPoloidalZ     =  4.4597373e+00 * kpc\n",
    "fStriation     =  3.4557571e-01\n",
    "fToroidalBN    =  3.2556760e+00 * microgauss\n",
    "fToroidalBS    = -3.0914569e+00 * microgauss\n",
    "fToroidalR     =  1.0193815e+01 * kpc\n",
    "fToroidalW     =  1.6936993e+00 * kpc\n",
    "fToroidalZ     =  4.0242749e+00 * kpc\n",
    "\n",
    "fSinPitch = np.sin(fDiskPitch)\n",
    "fCosPitch = np.cos(fDiskPitch)\n",
    "fTanPitch = np.tan(fDiskPitch)"
   ]
  },
  {
   "cell_type": "code",
   "execution_count": 5,
   "id": "e3b84cfa",
   "metadata": {},
   "outputs": [],
   "source": [
    "def get_toroidal_halo_field(x, y, z):\n",
    "    r2 = np.power(x, 2) + np.power(y, 2)\n",
    "    r = np.sqrt(r2)\n",
    "    abs_z = np.abs(z)\n",
    "\n",
    "    b0 = fToroidalBN if z >= 0 else fToroidalBS\n",
    "    rh = fToroidalR\n",
    "    z0 = fToroidalZ\n",
    "    fwh = fToroidalW\n",
    "    sigmoid_r = sigmoid(r, rh, fwh)\n",
    "    sigmoid_z = sigmoid(abs_z, fDiskH, fDiskW)\n",
    "\n",
    "    # Eq. (21)\n",
    "    b_phi = b0 * (1 - sigmoid_r) * sigmoid_z * np.exp(-abs_z / z0)\n",
    "\n",
    "    b_cyl = [0, b_phi, 0]\n",
    "    cos_phi = x / r if r > np.finfo(float).eps else 1\n",
    "    sin_phi = y / r if r > np.finfo(float).eps else 0\n",
    "\n",
    "    return cyl_to_cart(b_cyl, cos_phi, sin_phi)"
   ]
  },
  {
   "cell_type": "markdown",
   "id": "4484a05a",
   "metadata": {},
   "source": [
    "### Plotting"
   ]
  },
  {
   "cell_type": "code",
   "execution_count": 6,
   "id": "4c31d79c",
   "metadata": {},
   "outputs": [],
   "source": [
    "#"
   ]
  },
  {
   "cell_type": "markdown",
   "id": "e13d3465",
   "metadata": {},
   "source": [
    "## Poloidal Halo Field"
   ]
  },
  {
   "cell_type": "markdown",
   "id": "a5838606",
   "metadata": {},
   "source": [
    "Also using parameters for base model"
   ]
  },
  {
   "cell_type": "code",
   "execution_count": 7,
   "id": "a538fd80",
   "metadata": {},
   "outputs": [],
   "source": [
    "fModelType = \"base\"\n",
    "def get_poloidal_halo_field(x, y, z):\n",
    "    r2 = np.power(x, 2) + np.power(y, 2)\n",
    "    r = np.sqrt(r2)\n",
    "    \n",
    "    c = np.power((fPoloidalA / fPoloidalZ), fPoloidalP)\n",
    "    a0p = np.power(fPoloidalA, fPoloidalP)\n",
    "    rp = np.power(r, fPoloidalP)\n",
    "    abszp = np.power(np.abs(z), fPoloidalP)\n",
    "    cabszp = c * abszp\n",
    "\n",
    "    t0 = a0p + cabszp - rp\n",
    "    t1 = np.sqrt(t0**2 + 4 * a0p * rp)\n",
    "    ap = 2 * a0p * rp / (t1 + t0)\n",
    "\n",
    "    if ap < 0:\n",
    "        if r > np.finfo(float).eps:\n",
    "            # This should never happen\n",
    "            raise ValueError(\"ap = {}\".format(ap))\n",
    "        else:\n",
    "            a = 0\n",
    "    else:\n",
    "        a = ap**(1 / fPoloidalP)\n",
    "    \n",
    "    # Eq. 29 and Eq. 32\n",
    "    if fModelType == 'expX':\n",
    "        radial_dependence = np.exp(-a / fPoloidalR)\n",
    "    else:\n",
    "        radial_dependence = 1 - sigmoid(a, fPoloidalR, fPoloidalW)\n",
    "\n",
    "    # Eq. 28\n",
    "    bzz = fPoloidalB * radial_dependence\n",
    "    \n",
    "    # r/a\n",
    "    r_over_a = 1 / np.power((2 * a0p / (t1 + t0)), (1 / fPoloidalP))\n",
    "    \n",
    "    # Eq. 35 for p=n\n",
    "    sign_z = -1 if z < 0 else 1\n",
    "    br = bzz * c * a / r_over_a * sign_z * np.abs(z)**(fPoloidalP - 1) / t1\n",
    "    \n",
    "    # Eq. 36 for p=n\n",
    "    bz = bzz * r_over_a**(fPoloidalP - 2) * (ap + a0p) / t1\n",
    "\n",
    "    if r < np.finfo(float).eps:\n",
    "        return Vector3(0, 0, bz)\n",
    "    else:\n",
    "        b_cyl_x = [br, 0, bz]\n",
    "        cos_phi = x / r\n",
    "        sin_phi = y / r\n",
    "        return cyl_to_cart(b_cyl_x, cos_phi, sin_phi)"
   ]
  },
  {
   "cell_type": "markdown",
   "id": "8593fd48",
   "metadata": {},
   "source": [
    "### Plotting"
   ]
  },
  {
   "cell_type": "code",
   "execution_count": 8,
   "id": "5fd29005",
   "metadata": {},
   "outputs": [],
   "source": [
    "#"
   ]
  },
  {
   "cell_type": "markdown",
   "id": "cddc2de5",
   "metadata": {},
   "source": [
    "## Twisted Halo Field"
   ]
  },
  {
   "cell_type": "markdown",
   "id": "c6094fb0",
   "metadata": {},
   "source": [
    " Parameters for twistX model"
   ]
  },
  {
   "cell_type": "code",
   "execution_count": 9,
   "id": "84b73b4d",
   "metadata": {},
   "outputs": [],
   "source": [
    "fDiskB1        =  1.3741995e+00 * microgauss\n",
    "fDiskB2        =  2.0089881e+00 * microgauss\n",
    "fDiskB3        =  1.5212463e+00 * microgauss\n",
    "fDiskH         =  9.3806180e-01 * kpc\n",
    "fDiskPhase1    =  2.3560316e+02 * degree\n",
    "fDiskPhase2    =  1.0189856e+02 * degree\n",
    "fDiskPhase3    =  5.6187572e+01 * degree\n",
    "fDiskPitch     =  1.2100979e+01 * degree\n",
    "fDiskW         =  1.4933338e-01 * kpc\n",
    "fPoloidalB     =  6.2793114e-01 * microgauss\n",
    "fPoloidalP     =  2.3292519e+00 * kpc\n",
    "fPoloidalR     =  7.9212358e+00 * kpc\n",
    "fPoloidalW     =  2.9056201e-01 * kpc\n",
    "fPoloidalZ     =  2.6274437e+00 * kpc\n",
    "fStriation     =  7.7616317e-01\n",
    "fTwistingTime  =  5.4733549e+01 * megayear"
   ]
  },
  {
   "cell_type": "code",
   "execution_count": 10,
   "id": "ac62afb9",
   "metadata": {},
   "outputs": [],
   "source": [
    "def get_twisted_halo_field(x, y, z):\n",
    "    r = np.sqrt(np.power(x, 2) + np.power(y, 2))\n",
    "    cos_phi = x / r if r > np.finfo(float).eps else 1\n",
    "    sin_phi = y / r if r > np.finfo(float).eps else 0\n",
    "\n",
    "    b_x_cart = get_poloidal_halo_field(x, y, z)\n",
    "    b_x_cyl = cart_to_cyl(b_x_cart, cos_phi, sin_phi)\n",
    "\n",
    "    b_z = b_x_cyl[2]\n",
    "    b_r = b_x_cyl[0]\n",
    "    b_phi = 0\n",
    "\n",
    "    if fTwistingTime != 0 and r != 0:\n",
    "        # radial rotation curve parameters (fit to Reid et al 2014)\n",
    "        v0 = -240 * kilometer / second\n",
    "        r0 = 1.6 * kpc\n",
    "        # vertical gradient (Levine+08)\n",
    "        z0 = 10 * kpc\n",
    "\n",
    "        # Eq. 43\n",
    "        fr = 1 - np.exp(-r / r0)\n",
    "        # Eq. 44\n",
    "        t0 = np.exp(2 * np.abs(z) / z0)\n",
    "        gz = 2 / (1 + t0)\n",
    "\n",
    "        # Eq. 46\n",
    "        sign_z = -1 if z < 0 else 1\n",
    "        delta_z = -sign_z * v0 * fr / z0 * t0 * np.power(gz, 2)\n",
    "        # Eq. 47\n",
    "        delta_r = v0 * ((1 - fr) / r0 - fr / r) * gz\n",
    "\n",
    "        # Eq. 45\n",
    "        b_phi = (b_z * delta_z + b_r * delta_r) * fTwistingTime\n",
    "\n",
    "    b_cyl_x = np.array([b_r, b_phi, b_z])\n",
    "    return cyl_to_cart(b_cyl_x, cos_phi, sin_phi)"
   ]
  },
  {
   "cell_type": "markdown",
   "id": "1ade6b80",
   "metadata": {},
   "source": [
    "### Plotting"
   ]
  },
  {
   "cell_type": "code",
   "execution_count": 11,
   "id": "cda0b4e9",
   "metadata": {},
   "outputs": [],
   "source": [
    "# "
   ]
  }
 ],
 "metadata": {
  "kernelspec": {
   "display_name": "Python 3",
   "language": "python",
   "name": "python3"
  },
  "language_info": {
   "codemirror_mode": {
    "name": "ipython",
    "version": 3
   },
   "file_extension": ".py",
   "mimetype": "text/x-python",
   "name": "python",
   "nbconvert_exporter": "python",
   "pygments_lexer": "ipython3",
   "version": "3.6.13"
  }
 },
 "nbformat": 4,
 "nbformat_minor": 5
}
