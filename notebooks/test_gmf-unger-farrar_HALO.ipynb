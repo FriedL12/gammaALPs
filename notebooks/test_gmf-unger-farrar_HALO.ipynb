{
 "cells": [
  {
   "cell_type": "markdown",
   "id": "4b529917",
   "metadata": {},
   "source": [
    "# Notebook to implement and test the halo field of UF23 Model"
   ]
  },
  {
   "cell_type": "code",
   "execution_count": 1,
   "id": "47b46ff4",
   "metadata": {},
   "outputs": [],
   "source": [
    "import numpy as np\n",
    "import math\n",
    "import matplotlib.pyplot as plt"
   ]
  },
  {
   "cell_type": "markdown",
   "id": "a24d62af",
   "metadata": {},
   "source": [
    "### General Constants"
   ]
  },
  {
   "cell_type": "code",
   "execution_count": 2,
   "id": "b234f14e",
   "metadata": {},
   "outputs": [],
   "source": [
    "kPi = math.pi\n",
    "kTwoPi = 2 * kPi\n",
    "degree = kPi / 180.\n",
    "kpc = 1\n",
    "microgauss = 1\n",
    "megayear = 1\n",
    "Gpc = 1e6 * kpc\n",
    "pc = 1e-3 * kpc\n",
    "second = megayear / (1e6 * 60 * 60 * 24 * 365.25)\n",
    "kilometer = kpc / 3.0856775807e+16"
   ]
  },
  {
   "cell_type": "markdown",
   "id": "8aea210a",
   "metadata": {},
   "source": [
    "### General Functions"
   ]
  },
  {
   "cell_type": "code",
   "execution_count": 3,
   "id": "44daf935",
   "metadata": {},
   "outputs": [],
   "source": [
    "# not sure about the coordinate transformations\n",
    "def cyl_to_cart(v, cos_phi, sin_phi):\n",
    "    \"\"\"\n",
    "    Converts cylindrical coordinates to cartesian coordinates.\n",
    "    Arguments:\n",
    "    v : array_like\n",
    "        Cylindrical coordinates vector (r, theta, z)\n",
    "    cos_phi : float\n",
    "        Cosine of the angle phi\n",
    "    sin_phi : float\n",
    "        Sine of the angle phi\n",
    "    \n",
    "    Returns:\n",
    "    numpy array representing the Cartesian coordinates (x, y, z)\n",
    "    \"\"\"\n",
    "    return np.array([v[0] * cos_phi - v[1] * sin_phi,\n",
    "                     v[0] * sin_phi + v[1] * cos_phi,\n",
    "                     v[2]\n",
    "                     ])\n",
    "\n",
    "def cart_to_cyl(v, cos_phi, sin_phi):\n",
    "    \"\"\"\n",
    "    Converts cartesian coordinates to cylindrical coordinates.\n",
    "    Arguments:\n",
    "    v : array_like\n",
    "        Cartesian coordinates vector (x, y, z)\n",
    "    cos_phi : float\n",
    "        Cosine of the angle phi\n",
    "    sin_phi : float\n",
    "        Sine of the angle phi\n",
    "    \n",
    "    Returns:\n",
    "    numpy array representing the Cylindrical coordinates (r, theta, z)\n",
    "    \"\"\"\n",
    "    return np.array([v[0] * cos_phi + v[1] * sin_phi,\n",
    "                     -v[0] * sin_phi + v[1] * cos_phi,\n",
    "                     v[2]\n",
    "                     ])\n",
    "\n",
    "def sigmoid(x, x0, w):\n",
    "    \"\"\"\n",
    "    Calculates the logistic sigmoid function.\n",
    "    Arguments:\n",
    "    x : float\n",
    "        The input value\n",
    "    x0 : float\n",
    "        The midpoint of the sigmoid\n",
    "    w : float\n",
    "        The width of the sigmoid\n",
    "    \n",
    "    Returns:\n",
    "    The result of the sigmoid function\n",
    "    \"\"\"\n",
    "    return 1 / (1 + np.exp(-(x - x0) / w))\n",
    "\n",
    "def delta_phi(phi0, phi1):\n",
    "    \"\"\"\n",
    "    Calculates the angle between v0 = (cos(phi0), sin(phi0)) and v1 = (cos(phi1), sin(phi1)).\n",
    "    Arguments:\n",
    "    phi0 : float\n",
    "        First angle in radians\n",
    "    phi1 : float\n",
    "        Second angle in radians\n",
    "    \n",
    "    Returns:\n",
    "    The angle between v0 and v1 in radians.\n",
    "    \"\"\"\n",
    "    return np.arccos(np.cos(phi1) * np.cos(phi0) + np.sin(phi1) * np.sin(phi0))"
   ]
  },
  {
   "cell_type": "markdown",
   "id": "cddc2de5",
   "metadata": {},
   "source": [
    "## Twisted Halo Field"
   ]
  },
  {
   "cell_type": "markdown",
   "id": "c6094fb0",
   "metadata": {},
   "source": [
    " Parameters for twistX model"
   ]
  },
  {
   "cell_type": "code",
   "execution_count": 4,
   "id": "84b73b4d",
   "metadata": {},
   "outputs": [],
   "source": [
    "fDiskB1        =  1.3741995e+00 * microgauss\n",
    "fDiskB2        =  2.0089881e+00 * microgauss\n",
    "fDiskB3        =  1.5212463e+00 * microgauss\n",
    "fDiskH         =  9.3806180e-01 * kpc\n",
    "fDiskPhase1    =  2.3560316e+02 * degree\n",
    "fDiskPhase2    =  1.0189856e+02 * degree\n",
    "fDiskPhase3    =  5.6187572e+01 * degree\n",
    "fDiskPitch     =  1.2100979e+01 * degree\n",
    "fDiskW         =  1.4933338e-01 * kpc\n",
    "fPoloidalB     =  6.2793114e-01 * microgauss\n",
    "fPoloidalP     =  2.3292519e+00 * kpc\n",
    "fPoloidalR     =  7.9212358e+00 * kpc\n",
    "fPoloidalW     =  2.9056201e-01 * kpc\n",
    "fPoloidalZ     =  2.6274437e+00 * kpc\n",
    "fStriation     =  7.7616317e-01\n",
    "fTwistingTime  =  5.4733549e+01 * megayear"
   ]
  },
  {
   "cell_type": "code",
   "execution_count": null,
   "id": "ac62afb9",
   "metadata": {},
   "outputs": [],
   "source": []
  }
 ],
 "metadata": {
  "kernelspec": {
   "display_name": "Python 3",
   "language": "python",
   "name": "python3"
  },
  "language_info": {
   "codemirror_mode": {
    "name": "ipython",
    "version": 3
   },
   "file_extension": ".py",
   "mimetype": "text/x-python",
   "name": "python",
   "nbconvert_exporter": "python",
   "pygments_lexer": "ipython3",
   "version": "3.6.13"
  }
 },
 "nbformat": 4,
 "nbformat_minor": 5
}
