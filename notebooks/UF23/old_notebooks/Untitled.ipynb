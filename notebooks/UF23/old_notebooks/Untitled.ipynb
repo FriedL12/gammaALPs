{
 "cells": [
  {
   "cell_type": "code",
   "execution_count": 1,
   "id": "e62e7ad5-e480-4bed-b6fe-f2b20a932587",
   "metadata": {},
   "outputs": [
    {
     "name": "stdout",
     "output_type": "stream",
     "text": [
      "/mnt/c/Users/friba/Desktop/Bachelorarbeit/gammaALPs/notebooks/UF23\n",
      "/mnt/c/Users/friba/Desktop/Bachelorarbeit/gammaALPs/notebooks\n",
      "/mnt/c/Users/friba/Desktop/Bachelorarbeit/gammaALPs\n"
     ]
    },
    {
     "name": "stderr",
     "output_type": "stream",
     "text": [
      "/home/flandgraf/.local/lib/python3.10/site-packages/IPython/core/magics/osm.py:417: UserWarning: This is now an optional IPython functionality, setting dhist requires you to install the `pickleshare` library.\n",
      "  self.shell.db['dhist'] = compress_dhist(dhist)[-100:]\n"
     ]
    }
   ],
   "source": [
    "# to import the gmf.py, this cell should be only executed once after kernel restart\n",
    "%cd ..\n",
    "%cd ..\n",
    "%cd .."
   ]
  },
  {
   "cell_type": "code",
   "execution_count": 2,
   "id": "7a409513-77f8-4e17-9068-b97cfd2cbec5",
   "metadata": {},
   "outputs": [
    {
     "name": "stderr",
     "output_type": "stream",
     "text": [
      "fatal: No names found, cannot describe anything.\n"
     ]
    }
   ],
   "source": [
    "from gammaALPs . bfields import gmf # contains the UF23 class\n",
    "import numpy as np"
   ]
  },
  {
   "cell_type": "code",
   "execution_count": 3,
   "id": "3a0d1322-565d-4162-a0c1-e1f8275f9069",
   "metadata": {},
   "outputs": [],
   "source": [
    "x = np . array ([ -10 , -5 , 0 , 5 , 10])\n",
    "y = np . array ([ -12 , -7 , 0 , 7 , 12])\n",
    "z = np . array ([ -4 , -2 , 0 , 2 , 4])"
   ]
  },
  {
   "cell_type": "code",
   "execution_count": 4,
   "id": "c4dd5830-edd0-4ac4-9527-0c0436b44f0b",
   "metadata": {},
   "outputs": [],
   "source": [
    "r = np . sqrt ( x **2 + y **2)\n",
    "phi = np . arctan2 (y , x )"
   ]
  },
  {
   "cell_type": "code",
   "execution_count": 6,
   "id": "2310e291-3604-416d-a80e-00aab8af817c",
   "metadata": {},
   "outputs": [],
   "source": [
    "uf23 = gmf.UF23(model='base')"
   ]
  },
  {
   "cell_type": "code",
   "execution_count": 7,
   "id": "58b2038d-c6e9-404f-8d8e-733838b40c55",
   "metadata": {},
   "outputs": [],
   "source": [
    "b_vec = uf23 . Bdisk ( rho =r , phi = phi , z = z ) [0] + uf23 . Bhalo ( rho =r , z = z ) [0]\n",
    "b_abs = uf23 . Bdisk ( rho =r , phi = phi , z = z ) [1] + uf23 . Bhalo ( rho =r , z = z ) [1]"
   ]
  },
  {
   "cell_type": "code",
   "execution_count": 10,
   "id": "806d2afb-4e85-4d2c-a180-bb018cd2a0e2",
   "metadata": {},
   "outputs": [],
   "source": [
    "b = uf23 . toroidal_halo_field ( rho =r, z = z )"
   ]
  },
  {
   "cell_type": "code",
   "execution_count": 12,
   "id": "fd7090c5-d66d-4e44-b256-73c80365ee32",
   "metadata": {},
   "outputs": [
    {
     "name": "stdout",
     "output_type": "stream",
     "text": [
      "[[-7.50509870e-12 -5.95011418e-01  0.00000000e+00  5.95013193e-01\n",
      "   7.49584387e-12]\n",
      " [-4.46382966e-02 -1.35227727e+00  1.97031568e-03  1.42412079e+00\n",
      "   4.70094961e-02]\n",
      " [ 4.15760687e-12  5.72649290e-01  9.77754870e-01  5.72649290e-01\n",
      "   4.15760687e-12]]\n"
     ]
    }
   ],
   "source": [
    "print(b_vec)"
   ]
  },
  {
   "cell_type": "code",
   "execution_count": 15,
   "id": "067d464e-7d87-4dc8-a415-4e39f68f96f2",
   "metadata": {},
   "outputs": [
    {
     "name": "stdout",
     "output_type": "stream",
     "text": [
      "(5,)\n"
     ]
    }
   ],
   "source": [
    "print(b_abs.shape)"
   ]
  },
  {
   "cell_type": "code",
   "execution_count": 14,
   "id": "4ee2ce6e-d173-4102-b97f-a76d05f3a3b0",
   "metadata": {},
   "outputs": [
    {
     "name": "stdout",
     "output_type": "stream",
     "text": [
      "(array([[ 0.        ,  0.        ,  0.        ,  0.        ,  0.        ],\n",
      "       [-0.0446383 , -1.35228088,  0.00197032,  1.42411443,  0.0470095 ],\n",
      "       [ 0.        ,  0.        ,  0.        ,  0.        ,  0.        ]]), array([0.0446383 , 1.35228088, 0.00197032, 1.42411443, 0.0470095 ]))\n"
     ]
    }
   ],
   "source": [
    "print(b)"
   ]
  },
  {
   "cell_type": "code",
   "execution_count": null,
   "id": "d756ad0c-6959-4cfa-ab43-76b049582250",
   "metadata": {},
   "outputs": [],
   "source": []
  }
 ],
 "metadata": {
  "kernelspec": {
   "display_name": "Python 3 (ipykernel)",
   "language": "python",
   "name": "python3"
  },
  "language_info": {
   "codemirror_mode": {
    "name": "ipython",
    "version": 3
   },
   "file_extension": ".py",
   "mimetype": "text/x-python",
   "name": "python",
   "nbconvert_exporter": "python",
   "pygments_lexer": "ipython3",
   "version": "3.10.12"
  }
 },
 "nbformat": 4,
 "nbformat_minor": 5
}
